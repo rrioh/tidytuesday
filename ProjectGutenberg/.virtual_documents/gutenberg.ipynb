


import pydytuesday
import pandas as pd
pd.set_option('display.max_rows', None)
import numpy as np
import matplotlib.pyplot as plt
import seaborn as sns
import plotly.express as px
#import plotly.io as pio
#pio.renderers.default = "notebook_connected"


pydytuesday.get_date('2025-06-03')
gutenberg_metadata = pd.read_csv('https://raw.githubusercontent.com/rfordatascience/tidytuesday/main/data/2025/2025-06-03/gutenberg_metadata.csv')
gutenberg_authors = pd.read_csv('https://raw.githubusercontent.com/rfordatascience/tidytuesday/main/data/2025/2025-06-03/gutenberg_authors.csv')
gutenberg_languages = pd.read_csv('https://raw.githubusercontent.com/rfordatascience/tidytuesday/main/data/2025/2025-06-03/gutenberg_languages.csv')
gutenberg_subjects = pd.read_csv('https://raw.githubusercontent.com/rfordatascience/tidytuesday/main/data/2025/2025-06-03/gutenberg_subjects.csv')


gutenberg_metadata.info()


gutenberg_metadata.describe(include='all')


gutenberg_authors.info()


gutenberg_languages.info()


gutenberg_subjects.info()


df = gutenberg_metadata.merge(gutenberg_authors, how='inner', on='gutenberg_author_id')
df = df.merge(gutenberg_languages, how='inner', on='gutenberg_id')
df = df.merge(gutenberg_subjects, how='inner', on='gutenberg_id')


df.shape


df.describe(include='all')


df.isnull().sum()


df[df['author_x'] != df['author_y']][['gutenberg_id','author_x','author_y']]


# drop duplicate columns (author, language)
df = df.drop(columns=['author_x', 'language_x'])
df = df.rename(columns={'author_y':'author', 'language_y':'language'})


df.head()


df.shape


df[df.isnull().any(axis=1)].shape


df.isnull().sum()


# available languages
df['language'].value_counts().iloc[:30]





# available languages
language_value_counts = df['language'].value_counts()
language_value_counts.index


# available languages
language_value_counts = df[df['language']!='en']['language'].value_counts()

fig, ax = plt.subplots(2, 1, figsize=(20,10), gridspec_kw={'height_ratios': [1, 3]})
sns.barplot(x=language_value_counts.head(10).values, y=language_value_counts.head(10).index, color='lightblue', ax=ax[0])
ax[0].axvline(x=language_value_counts.loc['sv'], color='red', linestyle='--')
ax[0].text(language_value_counts.loc['sv'],10, 'sv', color='red')
sns.barplot(x=language_value_counts.iloc[10:].values, y=language_value_counts.iloc[10:].index, color='lightblue', ax=ax[1])
plt.tight_layout()
plt.show()


# available languages + text rate
fig, ax = plt.subplots(2, 1, figsize=(20,20), gridspec_kw={'height_ratios':[1,3]})
top_11_languages = ['en','fr','fi','de','nl','it','es','pt','hu','zh','el']
sns.countplot(data=df, y='language', hue='has_text', ax=ax[0], order=df['language'].value_counts().iloc[:11].index)
sns.countplot(data=df, y='language', hue='has_text', ax=ax[1], order=df['language'].value_counts().iloc[11:].index)
plt.tight_layout()
plt.show()


df[df['has_text']==False]['language'].value_counts()





df.groupby('author')['gutenberg_id'].nunique().sort_values(ascending=False).iloc[:30]





df[~df['author'].isin(['Various', 'Anonymous', 'Unknown'])].groupby('author')['gutenberg_id'].nunique().sort_values(ascending=False).iloc[:30]





author_summary = df[~df['author'].isin(['Various','Anonymous','Unknown'])].groupby('author').agg({'gutenberg_id':'nunique','language':'nunique'})
author_summary_top_100 = author_summary.sort_values(by=['gutenberg_id','language'], ascending=False).head(100)
author_summary_top_100 = author_summary_top_100.reset_index()


plt.figure(figsize=(10,6))
ax = sns.scatterplot(
    data=author_summary_top_100,
    x='gutenberg_id',
    y='language',
    size='language',
    sizes=(50, 800),
    alpha=0.6
)
for _, r in author_summary_top_100.iterrows():
    if r['gutenberg_id'] >= 140 and r['language'] >= 6:
        ax.text(r['gutenberg_id'] + 0.2, r['language'], r['author'], fontsize=8)

ax.set(
    xlabel="Number of gutenberg_ids",
    ylabel="Number of languages",
    title="Books vs. Language Diversity per Author"
)

plt.tight_layout()
plt.show()


"""
fig = px.scatter(
    author_summary_top_100,
    x="gutenberg_id",
    y="language",
    size="language",
    size_max=50,
    hover_name="author",
    hover_data={
        "gutenberg_id": True,
        "language": True
    },
    labels={
        "gutenberg_id": "Number of Books",
        "language": "Number of Languages"
    },
    title="Books vs. Language Diversity per Author",
    width=1500,
    height=700
)

fig.show()"""






