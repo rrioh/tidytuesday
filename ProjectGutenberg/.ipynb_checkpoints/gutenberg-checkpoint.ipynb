{
 "cells": [
  {
   "cell_type": "markdown",
   "id": "123dde01-e176-41c0-994a-c96a642b017d",
   "metadata": {},
   "source": [
    "- The analysis of Project Gutenberg\n",
    "  - https://github.com/rfordatascience/tidytuesday/blob/main/data/2025/2025-06-03/readme.md\n",
    "\n",
    "- #PydyTuesday"
   ]
  },
  {
   "cell_type": "code",
   "execution_count": 1,
   "id": "c241046b-c171-4c05-b0b7-81d386d6f5b1",
   "metadata": {},
   "outputs": [],
   "source": [
    "import pydytuesday\n",
    "import pandas as pd\n",
    "pd.set_option('display.max_rows', None)\n",
    "import numpy as np\n",
    "import matplotlib.pyplot as plt\n",
    "import seaborn as sns"
   ]
  },
  {
   "cell_type": "code",
   "execution_count": 2,
   "id": "a0f6f521-364c-4ef1-9ed2-c83d30efecdb",
   "metadata": {},
   "outputs": [
    {
     "name": "stdout",
     "output_type": "stream",
     "text": [
      "Trying to fetch README from: https://raw.githubusercontent.com/rfordatascience/tidytuesday/refs/heads/main/data/2025/2025-06-03/readme.md\n",
      "Successfully fetched README from: https://raw.githubusercontent.com/rfordatascience/tidytuesday/refs/heads/main/data/2025/2025-06-03/readme.md\n",
      "Downloading gutenberg_authors.csv...\n",
      "Successfully saved gutenberg_authors.csv to /Users/ryohamada/python_ground/tidytuesday/ProjectGutenberg/gutenberg_authors.csv\n",
      "Downloading gutenberg_languages.csv...\n",
      "Successfully saved gutenberg_languages.csv to /Users/ryohamada/python_ground/tidytuesday/ProjectGutenberg/gutenberg_languages.csv\n",
      "Downloading gutenberg_metadata.csv...\n",
      "Successfully saved gutenberg_metadata.csv to /Users/ryohamada/python_ground/tidytuesday/ProjectGutenberg/gutenberg_metadata.csv\n",
      "Downloading gutenberg_subjects.csv...\n",
      "Successfully saved gutenberg_subjects.csv to /Users/ryohamada/python_ground/tidytuesday/ProjectGutenberg/gutenberg_subjects.csv\n",
      "Downloading meta.yaml...\n",
      "Successfully saved meta.yaml to /Users/ryohamada/python_ground/tidytuesday/ProjectGutenberg/meta.yaml\n",
      "Downloading pg-logo-129x80.png...\n",
      "Successfully saved pg-logo-129x80.png to /Users/ryohamada/python_ground/tidytuesday/ProjectGutenberg/pg-logo-129x80.png\n"
     ]
    }
   ],
   "source": [
    "pydytuesday.get_date('2025-06-03')\n",
    "gutenberg_metadata = pd.read_csv('https://raw.githubusercontent.com/rfordatascience/tidytuesday/main/data/2025/2025-06-03/gutenberg_metadata.csv')\n",
    "gutenberg_authors = pd.read_csv('https://raw.githubusercontent.com/rfordatascience/tidytuesday/main/data/2025/2025-06-03/gutenberg_authors.csv')\n",
    "gutenberg_languages = pd.read_csv('https://raw.githubusercontent.com/rfordatascience/tidytuesday/main/data/2025/2025-06-03/gutenberg_languages.csv')\n",
    "gutenberg_subjects = pd.read_csv('https://raw.githubusercontent.com/rfordatascience/tidytuesday/main/data/2025/2025-06-03/gutenberg_subjects.csv')"
   ]
  },
  {
   "cell_type": "code",
   "execution_count": 3,
   "id": "38a03685-5d53-4ffb-a236-7e29fc517b78",
   "metadata": {},
   "outputs": [
    {
     "name": "stdout",
     "output_type": "stream",
     "text": [
      "<class 'pandas.core.frame.DataFrame'>\n",
      "RangeIndex: 79491 entries, 0 to 79490\n",
      "Data columns (total 8 columns):\n",
      " #   Column               Non-Null Count  Dtype  \n",
      "---  ------               --------------  -----  \n",
      " 0   gutenberg_id         79491 non-null  int64  \n",
      " 1   title                79490 non-null  object \n",
      " 2   author               76694 non-null  object \n",
      " 3   gutenberg_author_id  76694 non-null  float64\n",
      " 4   language             79491 non-null  object \n",
      " 5   gutenberg_bookshelf  78942 non-null  object \n",
      " 6   rights               79491 non-null  object \n",
      " 7   has_text             79491 non-null  bool   \n",
      "dtypes: bool(1), float64(1), int64(1), object(5)\n",
      "memory usage: 4.3+ MB\n"
     ]
    }
   ],
   "source": [
    "gutenberg_metadata.info()"
   ]
  },
  {
   "cell_type": "code",
   "execution_count": 4,
   "id": "74389c5b-a713-43b6-93a3-f5dfde800220",
   "metadata": {},
   "outputs": [
    {
     "data": {
      "text/html": [
       "<div>\n",
       "<style scoped>\n",
       "    .dataframe tbody tr th:only-of-type {\n",
       "        vertical-align: middle;\n",
       "    }\n",
       "\n",
       "    .dataframe tbody tr th {\n",
       "        vertical-align: top;\n",
       "    }\n",
       "\n",
       "    .dataframe thead th {\n",
       "        text-align: right;\n",
       "    }\n",
       "</style>\n",
       "<table border=\"1\" class=\"dataframe\">\n",
       "  <thead>\n",
       "    <tr style=\"text-align: right;\">\n",
       "      <th></th>\n",
       "      <th>gutenberg_id</th>\n",
       "      <th>title</th>\n",
       "      <th>author</th>\n",
       "      <th>gutenberg_author_id</th>\n",
       "      <th>language</th>\n",
       "      <th>gutenberg_bookshelf</th>\n",
       "      <th>rights</th>\n",
       "      <th>has_text</th>\n",
       "    </tr>\n",
       "  </thead>\n",
       "  <tbody>\n",
       "    <tr>\n",
       "      <th>count</th>\n",
       "      <td>79491.00000</td>\n",
       "      <td>79490</td>\n",
       "      <td>76694</td>\n",
       "      <td>76694.000000</td>\n",
       "      <td>79491</td>\n",
       "      <td>78942</td>\n",
       "      <td>79491</td>\n",
       "      <td>79491</td>\n",
       "    </tr>\n",
       "    <tr>\n",
       "      <th>unique</th>\n",
       "      <td>NaN</td>\n",
       "      <td>74337</td>\n",
       "      <td>25941</td>\n",
       "      <td>NaN</td>\n",
       "      <td>119</td>\n",
       "      <td>8432</td>\n",
       "      <td>2</td>\n",
       "      <td>2</td>\n",
       "    </tr>\n",
       "    <tr>\n",
       "      <th>top</th>\n",
       "      <td>NaN</td>\n",
       "      <td>Poems</td>\n",
       "      <td>Various</td>\n",
       "      <td>NaN</td>\n",
       "      <td>en</td>\n",
       "      <td>Browsing: Literature/Browsing: Fiction</td>\n",
       "      <td>Public domain in the USA.</td>\n",
       "      <td>True</td>\n",
       "    </tr>\n",
       "    <tr>\n",
       "      <th>freq</th>\n",
       "      <td>NaN</td>\n",
       "      <td>69</td>\n",
       "      <td>3962</td>\n",
       "      <td>NaN</td>\n",
       "      <td>63362</td>\n",
       "      <td>5529</td>\n",
       "      <td>78588</td>\n",
       "      <td>79218</td>\n",
       "    </tr>\n",
       "    <tr>\n",
       "      <th>mean</th>\n",
       "      <td>38248.76859</td>\n",
       "      <td>NaN</td>\n",
       "      <td>NaN</td>\n",
       "      <td>19046.221686</td>\n",
       "      <td>NaN</td>\n",
       "      <td>NaN</td>\n",
       "      <td>NaN</td>\n",
       "      <td>NaN</td>\n",
       "    </tr>\n",
       "    <tr>\n",
       "      <th>std</th>\n",
       "      <td>21927.41987</td>\n",
       "      <td>NaN</td>\n",
       "      <td>NaN</td>\n",
       "      <td>20334.396956</td>\n",
       "      <td>NaN</td>\n",
       "      <td>NaN</td>\n",
       "      <td>NaN</td>\n",
       "      <td>NaN</td>\n",
       "    </tr>\n",
       "    <tr>\n",
       "      <th>min</th>\n",
       "      <td>1.00000</td>\n",
       "      <td>NaN</td>\n",
       "      <td>NaN</td>\n",
       "      <td>1.000000</td>\n",
       "      <td>NaN</td>\n",
       "      <td>NaN</td>\n",
       "      <td>NaN</td>\n",
       "      <td>NaN</td>\n",
       "    </tr>\n",
       "    <tr>\n",
       "      <th>25%</th>\n",
       "      <td>19305.50000</td>\n",
       "      <td>NaN</td>\n",
       "      <td>NaN</td>\n",
       "      <td>1025.000000</td>\n",
       "      <td>NaN</td>\n",
       "      <td>NaN</td>\n",
       "      <td>NaN</td>\n",
       "      <td>NaN</td>\n",
       "    </tr>\n",
       "    <tr>\n",
       "      <th>50%</th>\n",
       "      <td>38321.00000</td>\n",
       "      <td>NaN</td>\n",
       "      <td>NaN</td>\n",
       "      <td>6420.000000</td>\n",
       "      <td>NaN</td>\n",
       "      <td>NaN</td>\n",
       "      <td>NaN</td>\n",
       "      <td>NaN</td>\n",
       "    </tr>\n",
       "    <tr>\n",
       "      <th>75%</th>\n",
       "      <td>57189.50000</td>\n",
       "      <td>NaN</td>\n",
       "      <td>NaN</td>\n",
       "      <td>38877.500000</td>\n",
       "      <td>NaN</td>\n",
       "      <td>NaN</td>\n",
       "      <td>NaN</td>\n",
       "      <td>NaN</td>\n",
       "    </tr>\n",
       "    <tr>\n",
       "      <th>max</th>\n",
       "      <td>90907.00000</td>\n",
       "      <td>NaN</td>\n",
       "      <td>NaN</td>\n",
       "      <td>58316.000000</td>\n",
       "      <td>NaN</td>\n",
       "      <td>NaN</td>\n",
       "      <td>NaN</td>\n",
       "      <td>NaN</td>\n",
       "    </tr>\n",
       "  </tbody>\n",
       "</table>\n",
       "</div>"
      ],
      "text/plain": [
       "        gutenberg_id  title   author  gutenberg_author_id language  \\\n",
       "count    79491.00000  79490    76694         76694.000000    79491   \n",
       "unique           NaN  74337    25941                  NaN      119   \n",
       "top              NaN  Poems  Various                  NaN       en   \n",
       "freq             NaN     69     3962                  NaN    63362   \n",
       "mean     38248.76859    NaN      NaN         19046.221686      NaN   \n",
       "std      21927.41987    NaN      NaN         20334.396956      NaN   \n",
       "min          1.00000    NaN      NaN             1.000000      NaN   \n",
       "25%      19305.50000    NaN      NaN          1025.000000      NaN   \n",
       "50%      38321.00000    NaN      NaN          6420.000000      NaN   \n",
       "75%      57189.50000    NaN      NaN         38877.500000      NaN   \n",
       "max      90907.00000    NaN      NaN         58316.000000      NaN   \n",
       "\n",
       "                           gutenberg_bookshelf                     rights  \\\n",
       "count                                    78942                      79491   \n",
       "unique                                    8432                          2   \n",
       "top     Browsing: Literature/Browsing: Fiction  Public domain in the USA.   \n",
       "freq                                      5529                      78588   \n",
       "mean                                       NaN                        NaN   \n",
       "std                                        NaN                        NaN   \n",
       "min                                        NaN                        NaN   \n",
       "25%                                        NaN                        NaN   \n",
       "50%                                        NaN                        NaN   \n",
       "75%                                        NaN                        NaN   \n",
       "max                                        NaN                        NaN   \n",
       "\n",
       "       has_text  \n",
       "count     79491  \n",
       "unique        2  \n",
       "top        True  \n",
       "freq      79218  \n",
       "mean        NaN  \n",
       "std         NaN  \n",
       "min         NaN  \n",
       "25%         NaN  \n",
       "50%         NaN  \n",
       "75%         NaN  \n",
       "max         NaN  "
      ]
     },
     "execution_count": 4,
     "metadata": {},
     "output_type": "execute_result"
    }
   ],
   "source": [
    "gutenberg_metadata.describe(include='all')"
   ]
  },
  {
   "cell_type": "code",
   "execution_count": 5,
   "id": "8617c9c1-3646-4bfe-a1c0-506d5b932faa",
   "metadata": {},
   "outputs": [
    {
     "name": "stdout",
     "output_type": "stream",
     "text": [
      "<class 'pandas.core.frame.DataFrame'>\n",
      "RangeIndex: 26077 entries, 0 to 26076\n",
      "Data columns (total 7 columns):\n",
      " #   Column               Non-Null Count  Dtype  \n",
      "---  ------               --------------  -----  \n",
      " 0   gutenberg_author_id  26077 non-null  int64  \n",
      " 1   author               26077 non-null  object \n",
      " 2   alias                8651 non-null   object \n",
      " 3   birthdate            19662 non-null  float64\n",
      " 4   deathdate            18705 non-null  float64\n",
      " 5   wikipedia            14446 non-null  object \n",
      " 6   aliases              15398 non-null  object \n",
      "dtypes: float64(2), int64(1), object(4)\n",
      "memory usage: 1.4+ MB\n"
     ]
    }
   ],
   "source": [
    "gutenberg_authors.info()"
   ]
  },
  {
   "cell_type": "code",
   "execution_count": 6,
   "id": "221ff28c-1755-43f6-9328-4f17f1f4a3aa",
   "metadata": {},
   "outputs": [
    {
     "name": "stdout",
     "output_type": "stream",
     "text": [
      "<class 'pandas.core.frame.DataFrame'>\n",
      "RangeIndex: 76205 entries, 0 to 76204\n",
      "Data columns (total 3 columns):\n",
      " #   Column           Non-Null Count  Dtype \n",
      "---  ------           --------------  ----- \n",
      " 0   gutenberg_id     76205 non-null  int64 \n",
      " 1   language         76205 non-null  object\n",
      " 2   total_languages  76205 non-null  int64 \n",
      "dtypes: int64(2), object(1)\n",
      "memory usage: 1.7+ MB\n"
     ]
    }
   ],
   "source": [
    "gutenberg_languages.info()"
   ]
  },
  {
   "cell_type": "code",
   "execution_count": 7,
   "id": "1508b49c-dc6e-481b-80cb-d8a6ac00a9d3",
   "metadata": {},
   "outputs": [
    {
     "name": "stdout",
     "output_type": "stream",
     "text": [
      "<class 'pandas.core.frame.DataFrame'>\n",
      "RangeIndex: 255312 entries, 0 to 255311\n",
      "Data columns (total 3 columns):\n",
      " #   Column        Non-Null Count   Dtype \n",
      "---  ------        --------------   ----- \n",
      " 0   gutenberg_id  255312 non-null  int64 \n",
      " 1   subject_type  255312 non-null  object\n",
      " 2   subject       255047 non-null  object\n",
      "dtypes: int64(1), object(2)\n",
      "memory usage: 5.8+ MB\n"
     ]
    }
   ],
   "source": [
    "gutenberg_subjects.info()"
   ]
  },
  {
   "cell_type": "code",
   "execution_count": 8,
   "id": "781d3eab-5d2d-41a1-9b46-7c73545d1aad",
   "metadata": {},
   "outputs": [],
   "source": [
    "df = gutenberg_metadata.merge(gutenberg_authors, how='inner', on='gutenberg_author_id')\n",
    "df = df.merge(gutenberg_languages, how='inner', on='gutenberg_id')\n",
    "df = df.merge(gutenberg_subjects, how='inner', on='gutenberg_id')"
   ]
  },
  {
   "cell_type": "code",
   "execution_count": 9,
   "id": "94873ea0-c532-45bb-9ee2-c765aa9c3068",
   "metadata": {},
   "outputs": [
    {
     "data": {
      "text/plain": [
       "(259074, 18)"
      ]
     },
     "execution_count": 9,
     "metadata": {},
     "output_type": "execute_result"
    }
   ],
   "source": [
    "df.shape"
   ]
  },
  {
   "cell_type": "code",
   "execution_count": 10,
   "id": "093e5797-3e63-4ab8-b8d2-526d2e946dbc",
   "metadata": {},
   "outputs": [
    {
     "data": {
      "text/html": [
       "<div>\n",
       "<style scoped>\n",
       "    .dataframe tbody tr th:only-of-type {\n",
       "        vertical-align: middle;\n",
       "    }\n",
       "\n",
       "    .dataframe tbody tr th {\n",
       "        vertical-align: top;\n",
       "    }\n",
       "\n",
       "    .dataframe thead th {\n",
       "        text-align: right;\n",
       "    }\n",
       "</style>\n",
       "<table border=\"1\" class=\"dataframe\">\n",
       "  <thead>\n",
       "    <tr style=\"text-align: right;\">\n",
       "      <th></th>\n",
       "      <th>gutenberg_id</th>\n",
       "      <th>title</th>\n",
       "      <th>author_x</th>\n",
       "      <th>gutenberg_author_id</th>\n",
       "      <th>language_x</th>\n",
       "      <th>gutenberg_bookshelf</th>\n",
       "      <th>rights</th>\n",
       "      <th>has_text</th>\n",
       "      <th>author_y</th>\n",
       "      <th>alias</th>\n",
       "      <th>birthdate</th>\n",
       "      <th>deathdate</th>\n",
       "      <th>wikipedia</th>\n",
       "      <th>aliases</th>\n",
       "      <th>language_y</th>\n",
       "      <th>total_languages</th>\n",
       "      <th>subject_type</th>\n",
       "      <th>subject</th>\n",
       "    </tr>\n",
       "  </thead>\n",
       "  <tbody>\n",
       "    <tr>\n",
       "      <th>count</th>\n",
       "      <td>259074.000000</td>\n",
       "      <td>259074</td>\n",
       "      <td>259074</td>\n",
       "      <td>259074.000000</td>\n",
       "      <td>259074</td>\n",
       "      <td>257668</td>\n",
       "      <td>259074</td>\n",
       "      <td>259074</td>\n",
       "      <td>259074</td>\n",
       "      <td>72734</td>\n",
       "      <td>212901.000000</td>\n",
       "      <td>210059.000000</td>\n",
       "      <td>196777</td>\n",
       "      <td>188799</td>\n",
       "      <td>259074</td>\n",
       "      <td>259074.000000</td>\n",
       "      <td>259074</td>\n",
       "      <td>258796</td>\n",
       "    </tr>\n",
       "    <tr>\n",
       "      <th>unique</th>\n",
       "      <td>NaN</td>\n",
       "      <td>71462</td>\n",
       "      <td>25902</td>\n",
       "      <td>NaN</td>\n",
       "      <td>106</td>\n",
       "      <td>8173</td>\n",
       "      <td>2</td>\n",
       "      <td>2</td>\n",
       "      <td>25902</td>\n",
       "      <td>8641</td>\n",
       "      <td>NaN</td>\n",
       "      <td>NaN</td>\n",
       "      <td>14414</td>\n",
       "      <td>15387</td>\n",
       "      <td>64</td>\n",
       "      <td>NaN</td>\n",
       "      <td>2</td>\n",
       "      <td>40097</td>\n",
       "    </tr>\n",
       "    <tr>\n",
       "      <th>top</th>\n",
       "      <td>NaN</td>\n",
       "      <td>Poems</td>\n",
       "      <td>Various</td>\n",
       "      <td>NaN</td>\n",
       "      <td>en</td>\n",
       "      <td>Browsing: Culture/Civilization/Society/Browsin...</td>\n",
       "      <td>Public domain in the USA.</td>\n",
       "      <td>True</td>\n",
       "      <td>Various</td>\n",
       "      <td>Ballantyne, Robert Michael</td>\n",
       "      <td>NaN</td>\n",
       "      <td>NaN</td>\n",
       "      <td>https://en.wikipedia.org/wiki/Anonymous_work|e...</td>\n",
       "      <td>Verschillende/Various, Various</td>\n",
       "      <td>en</td>\n",
       "      <td>NaN</td>\n",
       "      <td>lcsh</td>\n",
       "      <td>PS</td>\n",
       "    </tr>\n",
       "    <tr>\n",
       "      <th>freq</th>\n",
       "      <td>NaN</td>\n",
       "      <td>147</td>\n",
       "      <td>9756</td>\n",
       "      <td>NaN</td>\n",
       "      <td>212201</td>\n",
       "      <td>20555</td>\n",
       "      <td>255809</td>\n",
       "      <td>258180</td>\n",
       "      <td>9756</td>\n",
       "      <td>697</td>\n",
       "      <td>NaN</td>\n",
       "      <td>NaN</td>\n",
       "      <td>2850</td>\n",
       "      <td>9756</td>\n",
       "      <td>212709</td>\n",
       "      <td>NaN</td>\n",
       "      <td>178929</td>\n",
       "      <td>12259</td>\n",
       "    </tr>\n",
       "    <tr>\n",
       "      <th>mean</th>\n",
       "      <td>38506.593900</td>\n",
       "      <td>NaN</td>\n",
       "      <td>NaN</td>\n",
       "      <td>18532.971989</td>\n",
       "      <td>NaN</td>\n",
       "      <td>NaN</td>\n",
       "      <td>NaN</td>\n",
       "      <td>NaN</td>\n",
       "      <td>NaN</td>\n",
       "      <td>NaN</td>\n",
       "      <td>1819.620988</td>\n",
       "      <td>1884.516207</td>\n",
       "      <td>NaN</td>\n",
       "      <td>NaN</td>\n",
       "      <td>NaN</td>\n",
       "      <td>1.005249</td>\n",
       "      <td>NaN</td>\n",
       "      <td>NaN</td>\n",
       "    </tr>\n",
       "    <tr>\n",
       "      <th>std</th>\n",
       "      <td>22398.637305</td>\n",
       "      <td>NaN</td>\n",
       "      <td>NaN</td>\n",
       "      <td>20315.983501</td>\n",
       "      <td>NaN</td>\n",
       "      <td>NaN</td>\n",
       "      <td>NaN</td>\n",
       "      <td>NaN</td>\n",
       "      <td>NaN</td>\n",
       "      <td>NaN</td>\n",
       "      <td>203.606011</td>\n",
       "      <td>213.889585</td>\n",
       "      <td>NaN</td>\n",
       "      <td>NaN</td>\n",
       "      <td>NaN</td>\n",
       "      <td>0.076316</td>\n",
       "      <td>NaN</td>\n",
       "      <td>NaN</td>\n",
       "    </tr>\n",
       "    <tr>\n",
       "      <th>min</th>\n",
       "      <td>1.000000</td>\n",
       "      <td>NaN</td>\n",
       "      <td>NaN</td>\n",
       "      <td>1.000000</td>\n",
       "      <td>NaN</td>\n",
       "      <td>NaN</td>\n",
       "      <td>NaN</td>\n",
       "      <td>NaN</td>\n",
       "      <td>NaN</td>\n",
       "      <td>NaN</td>\n",
       "      <td>-750.000000</td>\n",
       "      <td>-1105.000000</td>\n",
       "      <td>NaN</td>\n",
       "      <td>NaN</td>\n",
       "      <td>NaN</td>\n",
       "      <td>1.000000</td>\n",
       "      <td>NaN</td>\n",
       "      <td>NaN</td>\n",
       "    </tr>\n",
       "    <tr>\n",
       "      <th>25%</th>\n",
       "      <td>19219.000000</td>\n",
       "      <td>NaN</td>\n",
       "      <td>NaN</td>\n",
       "      <td>898.250000</td>\n",
       "      <td>NaN</td>\n",
       "      <td>NaN</td>\n",
       "      <td>NaN</td>\n",
       "      <td>NaN</td>\n",
       "      <td>NaN</td>\n",
       "      <td>NaN</td>\n",
       "      <td>1822.000000</td>\n",
       "      <td>1889.000000</td>\n",
       "      <td>NaN</td>\n",
       "      <td>NaN</td>\n",
       "      <td>NaN</td>\n",
       "      <td>1.000000</td>\n",
       "      <td>NaN</td>\n",
       "      <td>NaN</td>\n",
       "    </tr>\n",
       "    <tr>\n",
       "      <th>50%</th>\n",
       "      <td>39083.000000</td>\n",
       "      <td>NaN</td>\n",
       "      <td>NaN</td>\n",
       "      <td>5845.000000</td>\n",
       "      <td>NaN</td>\n",
       "      <td>NaN</td>\n",
       "      <td>NaN</td>\n",
       "      <td>NaN</td>\n",
       "      <td>NaN</td>\n",
       "      <td>NaN</td>\n",
       "      <td>1851.000000</td>\n",
       "      <td>1918.000000</td>\n",
       "      <td>NaN</td>\n",
       "      <td>NaN</td>\n",
       "      <td>NaN</td>\n",
       "      <td>1.000000</td>\n",
       "      <td>NaN</td>\n",
       "      <td>NaN</td>\n",
       "    </tr>\n",
       "    <tr>\n",
       "      <th>75%</th>\n",
       "      <td>58251.750000</td>\n",
       "      <td>NaN</td>\n",
       "      <td>NaN</td>\n",
       "      <td>38191.000000</td>\n",
       "      <td>NaN</td>\n",
       "      <td>NaN</td>\n",
       "      <td>NaN</td>\n",
       "      <td>NaN</td>\n",
       "      <td>NaN</td>\n",
       "      <td>NaN</td>\n",
       "      <td>1870.000000</td>\n",
       "      <td>1941.000000</td>\n",
       "      <td>NaN</td>\n",
       "      <td>NaN</td>\n",
       "      <td>NaN</td>\n",
       "      <td>1.000000</td>\n",
       "      <td>NaN</td>\n",
       "      <td>NaN</td>\n",
       "    </tr>\n",
       "    <tr>\n",
       "      <th>max</th>\n",
       "      <td>76147.000000</td>\n",
       "      <td>NaN</td>\n",
       "      <td>NaN</td>\n",
       "      <td>58312.000000</td>\n",
       "      <td>NaN</td>\n",
       "      <td>NaN</td>\n",
       "      <td>NaN</td>\n",
       "      <td>NaN</td>\n",
       "      <td>NaN</td>\n",
       "      <td>NaN</td>\n",
       "      <td>1982.000000</td>\n",
       "      <td>2024.000000</td>\n",
       "      <td>NaN</td>\n",
       "      <td>NaN</td>\n",
       "      <td>NaN</td>\n",
       "      <td>3.000000</td>\n",
       "      <td>NaN</td>\n",
       "      <td>NaN</td>\n",
       "    </tr>\n",
       "  </tbody>\n",
       "</table>\n",
       "</div>"
      ],
      "text/plain": [
       "         gutenberg_id   title author_x  gutenberg_author_id language_x  \\\n",
       "count   259074.000000  259074   259074        259074.000000     259074   \n",
       "unique            NaN   71462    25902                  NaN        106   \n",
       "top               NaN   Poems  Various                  NaN         en   \n",
       "freq              NaN     147     9756                  NaN     212201   \n",
       "mean     38506.593900     NaN      NaN         18532.971989        NaN   \n",
       "std      22398.637305     NaN      NaN         20315.983501        NaN   \n",
       "min          1.000000     NaN      NaN             1.000000        NaN   \n",
       "25%      19219.000000     NaN      NaN           898.250000        NaN   \n",
       "50%      39083.000000     NaN      NaN          5845.000000        NaN   \n",
       "75%      58251.750000     NaN      NaN         38191.000000        NaN   \n",
       "max      76147.000000     NaN      NaN         58312.000000        NaN   \n",
       "\n",
       "                                      gutenberg_bookshelf  \\\n",
       "count                                              257668   \n",
       "unique                                               8173   \n",
       "top     Browsing: Culture/Civilization/Society/Browsin...   \n",
       "freq                                                20555   \n",
       "mean                                                  NaN   \n",
       "std                                                   NaN   \n",
       "min                                                   NaN   \n",
       "25%                                                   NaN   \n",
       "50%                                                   NaN   \n",
       "75%                                                   NaN   \n",
       "max                                                   NaN   \n",
       "\n",
       "                           rights has_text author_y  \\\n",
       "count                      259074   259074   259074   \n",
       "unique                          2        2    25902   \n",
       "top     Public domain in the USA.     True  Various   \n",
       "freq                       255809   258180     9756   \n",
       "mean                          NaN      NaN      NaN   \n",
       "std                           NaN      NaN      NaN   \n",
       "min                           NaN      NaN      NaN   \n",
       "25%                           NaN      NaN      NaN   \n",
       "50%                           NaN      NaN      NaN   \n",
       "75%                           NaN      NaN      NaN   \n",
       "max                           NaN      NaN      NaN   \n",
       "\n",
       "                             alias      birthdate      deathdate  \\\n",
       "count                        72734  212901.000000  210059.000000   \n",
       "unique                        8641            NaN            NaN   \n",
       "top     Ballantyne, Robert Michael            NaN            NaN   \n",
       "freq                           697            NaN            NaN   \n",
       "mean                           NaN    1819.620988    1884.516207   \n",
       "std                            NaN     203.606011     213.889585   \n",
       "min                            NaN    -750.000000   -1105.000000   \n",
       "25%                            NaN    1822.000000    1889.000000   \n",
       "50%                            NaN    1851.000000    1918.000000   \n",
       "75%                            NaN    1870.000000    1941.000000   \n",
       "max                            NaN    1982.000000    2024.000000   \n",
       "\n",
       "                                                wikipedia  \\\n",
       "count                                              196777   \n",
       "unique                                              14414   \n",
       "top     https://en.wikipedia.org/wiki/Anonymous_work|e...   \n",
       "freq                                                 2850   \n",
       "mean                                                  NaN   \n",
       "std                                                   NaN   \n",
       "min                                                   NaN   \n",
       "25%                                                   NaN   \n",
       "50%                                                   NaN   \n",
       "75%                                                   NaN   \n",
       "max                                                   NaN   \n",
       "\n",
       "                               aliases language_y  total_languages  \\\n",
       "count                           188799     259074    259074.000000   \n",
       "unique                           15387         64              NaN   \n",
       "top     Verschillende/Various, Various         en              NaN   \n",
       "freq                              9756     212709              NaN   \n",
       "mean                               NaN        NaN         1.005249   \n",
       "std                                NaN        NaN         0.076316   \n",
       "min                                NaN        NaN         1.000000   \n",
       "25%                                NaN        NaN         1.000000   \n",
       "50%                                NaN        NaN         1.000000   \n",
       "75%                                NaN        NaN         1.000000   \n",
       "max                                NaN        NaN         3.000000   \n",
       "\n",
       "       subject_type subject  \n",
       "count        259074  258796  \n",
       "unique            2   40097  \n",
       "top            lcsh      PS  \n",
       "freq         178929   12259  \n",
       "mean            NaN     NaN  \n",
       "std             NaN     NaN  \n",
       "min             NaN     NaN  \n",
       "25%             NaN     NaN  \n",
       "50%             NaN     NaN  \n",
       "75%             NaN     NaN  \n",
       "max             NaN     NaN  "
      ]
     },
     "execution_count": 10,
     "metadata": {},
     "output_type": "execute_result"
    }
   ],
   "source": [
    "df.describe(include='all')"
   ]
  },
  {
   "cell_type": "code",
   "execution_count": 11,
   "id": "0e3f3022-b700-47f9-a9a4-8d1652624892",
   "metadata": {},
   "outputs": [
    {
     "data": {
      "text/plain": [
       "gutenberg_id                0\n",
       "title                       0\n",
       "author_x                    0\n",
       "gutenberg_author_id         0\n",
       "language_x                  0\n",
       "gutenberg_bookshelf      1406\n",
       "rights                      0\n",
       "has_text                    0\n",
       "author_y                    0\n",
       "alias                  186340\n",
       "birthdate               46173\n",
       "deathdate               49015\n",
       "wikipedia               62297\n",
       "aliases                 70275\n",
       "language_y                  0\n",
       "total_languages             0\n",
       "subject_type                0\n",
       "subject                   278\n",
       "dtype: int64"
      ]
     },
     "execution_count": 11,
     "metadata": {},
     "output_type": "execute_result"
    }
   ],
   "source": [
    "df.isnull().sum()"
   ]
  },
  {
   "cell_type": "code",
   "execution_count": 12,
   "id": "b7ebc457-858d-40e4-af82-cf44b65afb60",
   "metadata": {},
   "outputs": [
    {
     "data": {
      "text/html": [
       "<div>\n",
       "<style scoped>\n",
       "    .dataframe tbody tr th:only-of-type {\n",
       "        vertical-align: middle;\n",
       "    }\n",
       "\n",
       "    .dataframe tbody tr th {\n",
       "        vertical-align: top;\n",
       "    }\n",
       "\n",
       "    .dataframe thead th {\n",
       "        text-align: right;\n",
       "    }\n",
       "</style>\n",
       "<table border=\"1\" class=\"dataframe\">\n",
       "  <thead>\n",
       "    <tr style=\"text-align: right;\">\n",
       "      <th></th>\n",
       "      <th>gutenberg_id</th>\n",
       "      <th>author_x</th>\n",
       "      <th>author_y</th>\n",
       "    </tr>\n",
       "  </thead>\n",
       "  <tbody>\n",
       "    <tr>\n",
       "      <th>258841</th>\n",
       "      <td>76000</td>\n",
       "      <td>British Museum. Department of Egyptian and Ass...</td>\n",
       "      <td>Korppi, Kristian</td>\n",
       "    </tr>\n",
       "    <tr>\n",
       "      <th>258842</th>\n",
       "      <td>76000</td>\n",
       "      <td>British Museum. Department of Egyptian and Ass...</td>\n",
       "      <td>Korppi, Kristian</td>\n",
       "    </tr>\n",
       "  </tbody>\n",
       "</table>\n",
       "</div>"
      ],
      "text/plain": [
       "        gutenberg_id                                           author_x  \\\n",
       "258841         76000  British Museum. Department of Egyptian and Ass...   \n",
       "258842         76000  British Museum. Department of Egyptian and Ass...   \n",
       "\n",
       "                author_y  \n",
       "258841  Korppi, Kristian  \n",
       "258842  Korppi, Kristian  "
      ]
     },
     "execution_count": 12,
     "metadata": {},
     "output_type": "execute_result"
    }
   ],
   "source": [
    "df[df['author_x'] != df['author_y']][['gutenberg_id','author_x','author_y']]"
   ]
  },
  {
   "cell_type": "code",
   "execution_count": 13,
   "id": "57b09ab9-db14-4572-b0ac-2537c2a2bc37",
   "metadata": {},
   "outputs": [],
   "source": [
    "# drop duplicate columns (author, language)\n",
    "df = df.drop(columns=['author_x', 'language_x'])\n",
    "df = df.rename(columns={'author_y':'author', 'language_y':'language'})"
   ]
  },
  {
   "cell_type": "code",
   "execution_count": 14,
   "id": "9647b7d8-236f-44cc-a4b5-9fcbd62dd00e",
   "metadata": {},
   "outputs": [
    {
     "data": {
      "text/html": [
       "<div>\n",
       "<style scoped>\n",
       "    .dataframe tbody tr th:only-of-type {\n",
       "        vertical-align: middle;\n",
       "    }\n",
       "\n",
       "    .dataframe tbody tr th {\n",
       "        vertical-align: top;\n",
       "    }\n",
       "\n",
       "    .dataframe thead th {\n",
       "        text-align: right;\n",
       "    }\n",
       "</style>\n",
       "<table border=\"1\" class=\"dataframe\">\n",
       "  <thead>\n",
       "    <tr style=\"text-align: right;\">\n",
       "      <th></th>\n",
       "      <th>gutenberg_id</th>\n",
       "      <th>title</th>\n",
       "      <th>gutenberg_author_id</th>\n",
       "      <th>gutenberg_bookshelf</th>\n",
       "      <th>rights</th>\n",
       "      <th>has_text</th>\n",
       "      <th>author</th>\n",
       "      <th>alias</th>\n",
       "      <th>birthdate</th>\n",
       "      <th>deathdate</th>\n",
       "      <th>wikipedia</th>\n",
       "      <th>aliases</th>\n",
       "      <th>language</th>\n",
       "      <th>total_languages</th>\n",
       "      <th>subject_type</th>\n",
       "      <th>subject</th>\n",
       "    </tr>\n",
       "  </thead>\n",
       "  <tbody>\n",
       "    <tr>\n",
       "      <th>0</th>\n",
       "      <td>1</td>\n",
       "      <td>The Declaration of Independence of the United ...</td>\n",
       "      <td>1638.0</td>\n",
       "      <td>Politics/American Revolutionary War/United Sta...</td>\n",
       "      <td>Public domain in the USA.</td>\n",
       "      <td>True</td>\n",
       "      <td>Jefferson, Thomas</td>\n",
       "      <td>United States President (1801-1809)</td>\n",
       "      <td>1743.0</td>\n",
       "      <td>1826.0</td>\n",
       "      <td>https://en.wikipedia.org/wiki/Thomas_Jefferson</td>\n",
       "      <td>United States President (1801-1809)</td>\n",
       "      <td>en</td>\n",
       "      <td>1</td>\n",
       "      <td>lcsh</td>\n",
       "      <td>United States -- History -- Revolution, 1775-1...</td>\n",
       "    </tr>\n",
       "    <tr>\n",
       "      <th>1</th>\n",
       "      <td>1</td>\n",
       "      <td>The Declaration of Independence of the United ...</td>\n",
       "      <td>1638.0</td>\n",
       "      <td>Politics/American Revolutionary War/United Sta...</td>\n",
       "      <td>Public domain in the USA.</td>\n",
       "      <td>True</td>\n",
       "      <td>Jefferson, Thomas</td>\n",
       "      <td>United States President (1801-1809)</td>\n",
       "      <td>1743.0</td>\n",
       "      <td>1826.0</td>\n",
       "      <td>https://en.wikipedia.org/wiki/Thomas_Jefferson</td>\n",
       "      <td>United States President (1801-1809)</td>\n",
       "      <td>en</td>\n",
       "      <td>1</td>\n",
       "      <td>lcsh</td>\n",
       "      <td>United States. Declaration of Independence</td>\n",
       "    </tr>\n",
       "    <tr>\n",
       "      <th>2</th>\n",
       "      <td>1</td>\n",
       "      <td>The Declaration of Independence of the United ...</td>\n",
       "      <td>1638.0</td>\n",
       "      <td>Politics/American Revolutionary War/United Sta...</td>\n",
       "      <td>Public domain in the USA.</td>\n",
       "      <td>True</td>\n",
       "      <td>Jefferson, Thomas</td>\n",
       "      <td>United States President (1801-1809)</td>\n",
       "      <td>1743.0</td>\n",
       "      <td>1826.0</td>\n",
       "      <td>https://en.wikipedia.org/wiki/Thomas_Jefferson</td>\n",
       "      <td>United States President (1801-1809)</td>\n",
       "      <td>en</td>\n",
       "      <td>1</td>\n",
       "      <td>lcc</td>\n",
       "      <td>E201</td>\n",
       "    </tr>\n",
       "    <tr>\n",
       "      <th>3</th>\n",
       "      <td>1</td>\n",
       "      <td>The Declaration of Independence of the United ...</td>\n",
       "      <td>1638.0</td>\n",
       "      <td>Politics/American Revolutionary War/United Sta...</td>\n",
       "      <td>Public domain in the USA.</td>\n",
       "      <td>True</td>\n",
       "      <td>Jefferson, Thomas</td>\n",
       "      <td>United States President (1801-1809)</td>\n",
       "      <td>1743.0</td>\n",
       "      <td>1826.0</td>\n",
       "      <td>https://en.wikipedia.org/wiki/Thomas_Jefferson</td>\n",
       "      <td>United States President (1801-1809)</td>\n",
       "      <td>en</td>\n",
       "      <td>1</td>\n",
       "      <td>lcc</td>\n",
       "      <td>JK</td>\n",
       "    </tr>\n",
       "    <tr>\n",
       "      <th>4</th>\n",
       "      <td>2</td>\n",
       "      <td>The United States Bill of Rights\\r\\nThe Ten Or...</td>\n",
       "      <td>1.0</td>\n",
       "      <td>Politics/American Revolutionary War/United Sta...</td>\n",
       "      <td>Public domain in the USA.</td>\n",
       "      <td>True</td>\n",
       "      <td>United States</td>\n",
       "      <td>U.S.A.</td>\n",
       "      <td>NaN</td>\n",
       "      <td>NaN</td>\n",
       "      <td>https://en.wikipedia.org/wiki/United_States</td>\n",
       "      <td>U.S.A.</td>\n",
       "      <td>en</td>\n",
       "      <td>1</td>\n",
       "      <td>lcsh</td>\n",
       "      <td>Civil rights -- United States -- Sources</td>\n",
       "    </tr>\n",
       "  </tbody>\n",
       "</table>\n",
       "</div>"
      ],
      "text/plain": [
       "   gutenberg_id                                              title  \\\n",
       "0             1  The Declaration of Independence of the United ...   \n",
       "1             1  The Declaration of Independence of the United ...   \n",
       "2             1  The Declaration of Independence of the United ...   \n",
       "3             1  The Declaration of Independence of the United ...   \n",
       "4             2  The United States Bill of Rights\\r\\nThe Ten Or...   \n",
       "\n",
       "   gutenberg_author_id                                gutenberg_bookshelf  \\\n",
       "0               1638.0  Politics/American Revolutionary War/United Sta...   \n",
       "1               1638.0  Politics/American Revolutionary War/United Sta...   \n",
       "2               1638.0  Politics/American Revolutionary War/United Sta...   \n",
       "3               1638.0  Politics/American Revolutionary War/United Sta...   \n",
       "4                  1.0  Politics/American Revolutionary War/United Sta...   \n",
       "\n",
       "                      rights  has_text             author  \\\n",
       "0  Public domain in the USA.      True  Jefferson, Thomas   \n",
       "1  Public domain in the USA.      True  Jefferson, Thomas   \n",
       "2  Public domain in the USA.      True  Jefferson, Thomas   \n",
       "3  Public domain in the USA.      True  Jefferson, Thomas   \n",
       "4  Public domain in the USA.      True      United States   \n",
       "\n",
       "                                 alias  birthdate  deathdate  \\\n",
       "0  United States President (1801-1809)     1743.0     1826.0   \n",
       "1  United States President (1801-1809)     1743.0     1826.0   \n",
       "2  United States President (1801-1809)     1743.0     1826.0   \n",
       "3  United States President (1801-1809)     1743.0     1826.0   \n",
       "4                               U.S.A.        NaN        NaN   \n",
       "\n",
       "                                        wikipedia  \\\n",
       "0  https://en.wikipedia.org/wiki/Thomas_Jefferson   \n",
       "1  https://en.wikipedia.org/wiki/Thomas_Jefferson   \n",
       "2  https://en.wikipedia.org/wiki/Thomas_Jefferson   \n",
       "3  https://en.wikipedia.org/wiki/Thomas_Jefferson   \n",
       "4     https://en.wikipedia.org/wiki/United_States   \n",
       "\n",
       "                               aliases language  total_languages subject_type  \\\n",
       "0  United States President (1801-1809)       en                1         lcsh   \n",
       "1  United States President (1801-1809)       en                1         lcsh   \n",
       "2  United States President (1801-1809)       en                1          lcc   \n",
       "3  United States President (1801-1809)       en                1          lcc   \n",
       "4                               U.S.A.       en                1         lcsh   \n",
       "\n",
       "                                             subject  \n",
       "0  United States -- History -- Revolution, 1775-1...  \n",
       "1         United States. Declaration of Independence  \n",
       "2                                               E201  \n",
       "3                                                 JK  \n",
       "4           Civil rights -- United States -- Sources  "
      ]
     },
     "execution_count": 14,
     "metadata": {},
     "output_type": "execute_result"
    }
   ],
   "source": [
    "df.head()"
   ]
  },
  {
   "cell_type": "code",
   "execution_count": 15,
   "id": "3387a559-81bb-4018-b1a1-dfc79a6ee250",
   "metadata": {},
   "outputs": [
    {
     "data": {
      "text/plain": [
       "(259074, 16)"
      ]
     },
     "execution_count": 15,
     "metadata": {},
     "output_type": "execute_result"
    }
   ],
   "source": [
    "df.shape"
   ]
  },
  {
   "cell_type": "code",
   "execution_count": 16,
   "id": "a5578436-317c-426c-ab0f-75c50397e8e2",
   "metadata": {},
   "outputs": [
    {
     "data": {
      "text/plain": [
       "(206040, 16)"
      ]
     },
     "execution_count": 16,
     "metadata": {},
     "output_type": "execute_result"
    }
   ],
   "source": [
    "df[df.isnull().any(axis=1)].shape"
   ]
  },
  {
   "cell_type": "code",
   "execution_count": 17,
   "id": "13d282d6-f799-4a76-b1a6-cb23c9d93cc6",
   "metadata": {},
   "outputs": [
    {
     "data": {
      "text/plain": [
       "gutenberg_id                0\n",
       "title                       0\n",
       "gutenberg_author_id         0\n",
       "gutenberg_bookshelf      1406\n",
       "rights                      0\n",
       "has_text                    0\n",
       "author                      0\n",
       "alias                  186340\n",
       "birthdate               46173\n",
       "deathdate               49015\n",
       "wikipedia               62297\n",
       "aliases                 70275\n",
       "language                    0\n",
       "total_languages             0\n",
       "subject_type                0\n",
       "subject                   278\n",
       "dtype: int64"
      ]
     },
     "execution_count": 17,
     "metadata": {},
     "output_type": "execute_result"
    }
   ],
   "source": [
    "df.isnull().sum()"
   ]
  },
  {
   "cell_type": "code",
   "execution_count": 18,
   "id": "9411ccca-09d0-48e4-84d3-5b82e5898fd2",
   "metadata": {},
   "outputs": [
    {
     "data": {
      "text/plain": [
       "language\n",
       "en     212709\n",
       "fr      12622\n",
       "fi       9873\n",
       "de       6911\n",
       "nl       3548\n",
       "it       2965\n",
       "es       2722\n",
       "pt       1666\n",
       "hu       1596\n",
       "zh       1061\n",
       "el        670\n",
       "sv        653\n",
       "la        487\n",
       "eo        337\n",
       "da        211\n",
       "ca        182\n",
       "tl        151\n",
       "pl         92\n",
       "no         84\n",
       "ja         67\n",
       "af         47\n",
       "cs         41\n",
       "cy         41\n",
       "fy         39\n",
       "is         28\n",
       "ru         25\n",
       "myn        18\n",
       "he         15\n",
       "nav        12\n",
       "te         12\n",
       "Name: count, dtype: int64"
      ]
     },
     "execution_count": 18,
     "metadata": {},
     "output_type": "execute_result"
    }
   ],
   "source": [
    "# available languages\n",
    "df['language'].value_counts().iloc[:30]"
   ]
  },
  {
   "cell_type": "markdown",
   "id": "d7bfb581-dd84-4ea1-b16c-4a754ab878a1",
   "metadata": {},
   "source": [
    "- → Apparently, English has by far the largest number. So I'll exclude English from the graph below.\n",
    "  - In addition, I'll split the graph into two, one that contains the top 10 languages, and the other that contains the rest."
   ]
  },
  {
   "cell_type": "code",
   "execution_count": 19,
   "id": "44aa9745-89c5-44de-8312-733d9ead41bc",
   "metadata": {},
   "outputs": [
    {
     "data": {
      "text/plain": [
       "Index(['en', 'fr', 'fi', 'de', 'nl', 'it', 'es', 'pt', 'hu', 'zh', 'el', 'sv',\n",
       "       'la', 'eo', 'da', 'ca', 'tl', 'pl', 'no', 'ja', 'af', 'cs', 'cy', 'fy',\n",
       "       'is', 'ru', 'myn', 'he', 'nav', 'te', 'ro', 'fur', 'bg', 'nai', 'sr',\n",
       "       'ga', 'ceb', 'nah', 'ang', 'sl', 'gla', 'ilo', 'gl', 'enm', 'oc', 'grc',\n",
       "       'brx', 'sco', 'iu', 'bgs', 'mi', 'nap', 'oji', 'fa', 'ale', 'ar', 'yi',\n",
       "       'kld', 'ko', 'kha', 'et', 'csb', 'ia', 'sa'],\n",
       "      dtype='object', name='language')"
      ]
     },
     "execution_count": 19,
     "metadata": {},
     "output_type": "execute_result"
    }
   ],
   "source": [
    "# available languages\n",
    "language_value_counts = df['language'].value_counts()\n",
    "language_value_counts.index"
   ]
  },
  {
   "cell_type": "code",
   "execution_count": 20,
   "id": "5561b350-ae4d-429e-950b-0ca4702ff6ba",
   "metadata": {},
   "outputs": [
    {
     "data": {
      "image/png": "[encoded data removed]",
      "text/plain": [
       "<Figure size 2000x1000 with 2 Axes>"
      ]
     },
     "metadata": {},
     "output_type": "display_data"
    }
   ],
   "source": [
    "# available languages\n",
    "language_value_counts = df[df['language']!='en']['language'].value_counts()\n",
    "\n",
    "fig, ax = plt.subplots(2, 1, figsize=(20,10), gridspec_kw={'height_ratios': [1, 3]})\n",
    "sns.barplot(x=language_value_counts.head(10).values, y=language_value_counts.head(10).index, color='lightblue', ax=ax[0])\n",
    "ax[0].axvline(x=language_value_counts.loc['sv'], color='red', linestyle='--')\n",
    "ax[0].text(language_value_counts.loc['sv'],10, 'sv', color='red')\n",
    "sns.barplot(x=language_value_counts.iloc[10:].values, y=language_value_counts.iloc[10:].index, color='lightblue', ax=ax[1])\n",
    "plt.tight_layout()\n",
    "plt.show()"
   ]
  },
  {
   "cell_type": "code",
   "execution_count": 21,
   "id": "10cb9696-4f6a-46e9-8b93-706d2a5cab54",
   "metadata": {},
   "outputs": [
    {
     "data": {
      "image/png": "[encoded data removed]",
      "text/plain": [
       "<Figure size 2000x2000 with 2 Axes>"
      ]
     },
     "metadata": {},
     "output_type": "display_data"
    }
   ],
   "source": [
    "# available languages + text rate\n",
    "fig, ax = plt.subplots(2, 1, figsize=(20,20), gridspec_kw={'height_ratios':[1,3]})\n",
    "top_11_languages = ['en','fr','fi','de','nl','it','es','pt','hu','zh','el']\n",
    "sns.countplot(data=df, y='language', hue='has_text', ax=ax[0], order=df['language'].value_counts().iloc[:11].index)\n",
    "sns.countplot(data=df, y='language', hue='has_text', ax=ax[1], order=df['language'].value_counts().iloc[11:].index)\n",
    "plt.tight_layout()\n",
    "plt.show()"
   ]
  },
  {
   "cell_type": "code",
   "execution_count": 22,
   "id": "cdf48c2d-fbad-4a39-8448-fea2c2b9dc8e",
   "metadata": {},
   "outputs": [
    {
     "data": {
      "text/plain": [
       "language\n",
       "en     769\n",
       "fr      57\n",
       "de      55\n",
       "sr       4\n",
       "it       4\n",
       "zh       3\n",
       "fur      2\n",
       "Name: count, dtype: int64"
      ]
     },
     "execution_count": 22,
     "metadata": {},
     "output_type": "execute_result"
    }
   ],
   "source": [
    "df[df['has_text']==False]['language'].value_counts()"
   ]
  },
  {
   "cell_type": "markdown",
   "id": "00220847-d537-4492-aa2f-3b18cafef1ce",
   "metadata": {},
   "source": [
    "- → Books that are not in the text format occupy a significantly small percentage of all the books."
   ]
  },
  {
   "cell_type": "code",
   "execution_count": 23,
   "id": "b5022f65-78be-4874-997f-c71c5320d0e6",
   "metadata": {},
   "outputs": [
    {
     "data": {
      "text/plain": [
       "author\n",
       "Various                                3959\n",
       "Anonymous                               927\n",
       "Shakespeare, William                    334\n",
       "Twain, Mark                             251\n",
       "Lytton, Edward Bulwer Lytton, Baron     226\n",
       "Dickens, Charles                        197\n",
       "Verne, Jules                            177\n",
       "Ebers, Georg                            177\n",
       "Dumas, Alexandre                        164\n",
       "Balzac, Honoré de                       159\n",
       "Doyle, Arthur Conan                     150\n",
       "Unknown                                 149\n",
       "Jókai, Mór                              146\n",
       "Oliphant, Mrs. (Margaret)               141\n",
       "Parker, Gilbert                         134\n",
       "Kingston, William Henry Giles           133\n",
       "Fenn, George Manville                   130\n",
       "Wells, H. G. (Herbert George)           124\n",
       "Stevenson, Robert Louis                 114\n",
       "Jacobs, W. W. (William Wymark)          114\n",
       "London, Jack                            113\n",
       "Alger, Horatio, Jr.                     113\n",
       "Meredith, George                        112\n",
       "Henty, G. A. (George Alfred)            111\n",
       "Howells, William Dean                   111\n",
       "Stratemeyer, Edward                     104\n",
       "Zola, Émile                             104\n",
       "Motley, John Lothrop                    103\n",
       "Hawthorne, Nathaniel                    103\n",
       "Burroughs, Edgar Rice                   102\n",
       "Name: gutenberg_id, dtype: int64"
      ]
     },
     "execution_count": 23,
     "metadata": {},
     "output_type": "execute_result"
    }
   ],
   "source": [
    "df.groupby('author')['gutenberg_id'].nunique().sort_values(ascending=False).iloc[:30]"
   ]
  },
  {
   "cell_type": "markdown",
   "id": "f31248b3-43a0-44df-86d3-56ee3632d4dd",
   "metadata": {},
   "source": [
    "- → Obviously, \"Various\", \"Anonymous\" and \"Unknown\" are not specific human's names, so I'll exclude them"
   ]
  },
  {
   "cell_type": "code",
   "execution_count": 24,
   "id": "ac05a33c-98f1-4107-bd5e-54a9738af8a1",
   "metadata": {},
   "outputs": [
    {
     "data": {
      "text/plain": [
       "author\n",
       "Shakespeare, William                   334\n",
       "Twain, Mark                            251\n",
       "Lytton, Edward Bulwer Lytton, Baron    226\n",
       "Dickens, Charles                       197\n",
       "Verne, Jules                           177\n",
       "Ebers, Georg                           177\n",
       "Dumas, Alexandre                       164\n",
       "Balzac, Honoré de                      159\n",
       "Doyle, Arthur Conan                    150\n",
       "Jókai, Mór                             146\n",
       "Oliphant, Mrs. (Margaret)              141\n",
       "Parker, Gilbert                        134\n",
       "Kingston, William Henry Giles          133\n",
       "Fenn, George Manville                  130\n",
       "Wells, H. G. (Herbert George)          124\n",
       "Stevenson, Robert Louis                114\n",
       "Jacobs, W. W. (William Wymark)         114\n",
       "Alger, Horatio, Jr.                    113\n",
       "London, Jack                           113\n",
       "Meredith, George                       112\n",
       "Howells, William Dean                  111\n",
       "Henty, G. A. (George Alfred)           111\n",
       "Stratemeyer, Edward                    104\n",
       "Zola, Émile                            104\n",
       "Motley, John Lothrop                   103\n",
       "Hawthorne, Nathaniel                   103\n",
       "Burroughs, Edgar Rice                  102\n",
       "Ballantyne, R. M. (Robert Michael)     101\n",
       "Baum, L. Frank (Lyman Frank)           100\n",
       "Scott, Walter                           98\n",
       "Name: gutenberg_id, dtype: int64"
      ]
     },
     "execution_count": 24,
     "metadata": {},
     "output_type": "execute_result"
    }
   ],
   "source": [
    "df[~df['author'].isin(['Various', 'Anonymous', 'Unknown'])].groupby('author')['gutenberg_id'].nunique().sort_values(ascending=False).iloc[:30]"
   ]
  },
  {
   "cell_type": "markdown",
   "id": "8a0147b5-4d5c-455c-9f92-34ce306d45b4",
   "metadata": {},
   "source": [
    "- → William Shakespeare has the largest number of gutenberg_id in the library."
   ]
  },
  {
   "cell_type": "code",
   "execution_count": 25,
   "id": "791d8d4d-5ddb-41c2-b5c4-e0f1c6893535",
   "metadata": {},
   "outputs": [],
   "source": [
    "author_summary = df[~df['author'].isin(['Various','Anonymous','Unknown'])].groupby('author').agg({'gutenberg_id':'nunique','language':'nunique'})\n",
    "author_summary_top_100 = author_summary.sort_values(by=['gutenberg_id','language'], ascending=False).head(100)\n",
    "author_summary_top_100 = author_summary_top_100.reset_index()"
   ]
  },
  {
   "cell_type": "code",
   "execution_count": 26,
   "id": "2b193a3a-98b8-4178-b58b-5b68304eb5dc",
   "metadata": {},
   "outputs": [
    {
     "data": {
      "text/plain": [
       "'plt.figure(figsize=(10,6))\\nax = sns.scatterplot(\\n    data=author_summary_top_100,\\n    x=\\'gutenberg_id\\',\\n    y=\\'language\\',\\n    size=\\'language\\',\\n    sizes=(50, 800),\\n    alpha=0.6\\n)\\nfor k, r in author_summary_top_100.iterrows():\\n    if r[\\'gutenberg_id\\'] >= 140 and r[\\'language\\'] >= 6:\\n        ax.text(r[\\'gutenberg_id\\'] + 0.2, r[\\'language\\'], k, fontsize=8)\\n\\nax.set(\\n    xlabel=\"Number of gutenberg_ids\",\\n    ylabel=\"Number of languages\",\\n    title=\"Books vs. Language Diversity per Author\"\\n)\\n\\nplt.tight_layout()\\nplt.show()'"
      ]
     },
     "execution_count": 26,
     "metadata": {},
     "output_type": "execute_result"
    }
   ],
   "source": [
    "\"\"\"plt.figure(figsize=(10,6))\n",
    "ax = sns.scatterplot(\n",
    "    data=author_summary_top_100,\n",
    "    x='gutenberg_id',\n",
    "    y='language',\n",
    "    size='language',\n",
    "    sizes=(50, 800),\n",
    "    alpha=0.6\n",
    ")\n",
    "for k, r in author_summary_top_100.iterrows():\n",
    "    if r['gutenberg_id'] >= 140 and r['language'] >= 6:\n",
    "        ax.text(r['gutenberg_id'] + 0.2, r['language'], k, fontsize=8)\n",
    "\n",
    "ax.set(\n",
    "    xlabel=\"Number of gutenberg_ids\",\n",
    "    ylabel=\"Number of languages\",\n",
    "    title=\"Books vs. Language Diversity per Author\"\n",
    ")\n",
    "\n",
    "plt.tight_layout()\n",
    "plt.show()\"\"\""
   ]
  },
  {
   "cell_type": "code",
   "execution_count": 28,
   "id": "0f2840d6-f8a6-4656-8fc7-5c46244de990",
   "metadata": {},
   "outputs": [
    {
     "data": {
      "application/vnd.plotly.v1+json": {
       "config": {
        "plotlyServerURL": "https://plot.ly"
       },
       "data": [
        {
         "hovertemplate": "<b>%{hovertext}</b><br><br>Number of Books=%{x}<br>Number of Languages=%{marker.size}<extra></extra>",
         "hovertext": [
          "Shakespeare, William",
          "Twain, Mark",
          "Lytton, Edward Bulwer Lytton, Baron",
          "Dickens, Charles",
          "Verne, Jules",
          "Ebers, Georg",
          "Dumas, Alexandre",
          "Balzac, Honoré de",
          "Doyle, Arthur Conan",
          "Jókai, Mór",
          "Oliphant, Mrs. (Margaret)",
          "Parker, Gilbert",
          "Kingston, William Henry Giles",
          "Fenn, George Manville",
          "Wells, H. G. (Herbert George)",
          "Stevenson, Robert Louis",
          "Jacobs, W. W. (William Wymark)",
          "London, Jack",
          "Alger, Horatio, Jr.",
          "Meredith, George",
          "Henty, G. A. (George Alfred)",
          "Howells, William Dean",
          "Zola, Émile",
          "Stratemeyer, Edward",
          "Hawthorne, Nathaniel",
          "Motley, John Lothrop",
          "Burroughs, Edgar Rice",
          "Ballantyne, R. M. (Robert Michael)",
          "Baum, L. Frank (Lyman Frank)",
          "Scott, Walter",
          "Sand, George",
          "James, Henry",
          "Tolstoy, Leo, graf",
          "Kipling, Rudyard",
          "Goethe, Johann Wolfgang von",
          "Maupassant, Guy de",
          "Trollope, Anthony",
          "Pepys, Samuel",
          "Le Queux, William",
          "Defoe, Daniel",
          "Lang, Andrew",
          "Library of Congress. Copyright Office",
          "Haggard, H. Rider (Henry Rider)",
          "Conrad, Joseph",
          "Garrett, Randall",
          "Ellis, Edward Sylvester",
          "Churchill, Winston",
          "Hope, Laura Lee",
          "Wharton, Edith",
          "Human Genome Project",
          "Cervantes Saavedra, Miguel de",
          "Optic, Oliver",
          "Thackeray, William Makepeace",
          "MacDonald, George",
          "Ibsen, Henrik",
          "Plato",
          "Yonge, Charlotte M. (Charlotte Mary)",
          "Pérez Galdós, Benito",
          "France, Anatole",
          "Sue, Eugène",
          "Matull, Kurt",
          "Hugo, Victor",
          "Chesterton, G. K. (Gilbert Keith)",
          "Barbour, Ralph Henry",
          "Blankensee, Theo von",
          "Garis, Howard Roger",
          "Wilde, Oscar",
          "Baring-Gould, S. (Sabine)",
          "Hume, Fergus",
          "Reid, Mayne",
          "Grant, James",
          "Harte, Bret",
          "Galsworthy, John",
          "Leinster, Murray",
          "Dante Alighieri",
          "Meade, L. T.",
          "Maquet, Auguste",
          "Ruskin, John",
          "Schiller, Friedrich",
          "Wells, Carolyn",
          "Alcott, Louisa May",
          "Oppenheim, E. Phillips (Edward Phillips)",
          "Molesworth, Mrs.",
          "Strindberg, August",
          "Blasco Ibáñez, Vicente",
          "Burnett, Frances Hodgson",
          "Bennett, Arnold",
          "Hardy, Thomas",
          "Carter, Nicholas (House name)",
          "Shaw, Bernard",
          "Abbott, Jacob",
          "Smith, George O. (George Oliver)",
          "Warner, Charles Dudley",
          "Braddon, M. E. (Mary Elizabeth)",
          "Standish, Burt L.",
          "Huxley, Thomas Henry",
          "Belloc, Hilaire",
          "Lever, Charles James",
          "Wodehouse, P. G. (Pelham Grenville)",
          "Aimard, Gustave"
         ],
         "legendgroup": "",
         "marker": {
          "color": "#636efa",
          "size": [
           14,
           8,
           4,
           8,
           11,
           3,
           7,
           6,
           8,
           3,
           1,
           1,
           1,
           1,
           5,
           8,
           2,
           6,
           1,
           1,
           2,
           2,
           4,
           1,
           3,
           1,
           3,
           1,
           2,
           5,
           3,
           1,
           9,
           5,
           9,
           6,
           1,
           1,
           2,
           7,
           1,
           1,
           5,
           4,
           1,
           2,
           2,
           1,
           4,
           1,
           7,
           1,
           4,
           1,
           7,
           6,
           2,
           4,
           3,
           3,
           2,
           6,
           3,
           1,
           1,
           1,
           8,
           1,
           1,
           3,
           1,
           4,
           2,
           1,
           8,
           1,
           4,
           4,
           5,
           1,
           4,
           2,
           1,
           4,
           3,
           2,
           2,
           2,
           1,
           4,
           1,
           1,
           1,
           2,
           1,
           2,
           1,
           1,
           1,
           5
          ],
          "sizemode": "area",
          "sizeref": 0.0056,
          "symbol": "circle"
         },
         "mode": "markers",
         "name": "",
         "orientation": "v",
         "showlegend": false,
         "type": "scatter",
         "x": [
          334,
          251,
          226,
          197,
          177,
          177,
          164,
          159,
          150,
          146,
          141,
          134,
          133,
          130,
          124,
          114,
          114,
          113,
          113,
          112,
          111,
          111,
          104,
          104,
          103,
          103,
          102,
          101,
          100,
          98,
          98,
          97,
          96,
          96,
          91,
          91,
          88,
          87,
          84,
          83,
          83,
          82,
          79,
          78,
          78,
          77,
          76,
          76,
          74,
          73,
          72,
          72,
          71,
          71,
          70,
          70,
          70,
          69,
          69,
          69,
          69,
          68,
          68,
          68,
          68,
          68,
          67,
          67,
          67,
          66,
          66,
          65,
          65,
          65,
          64,
          64,
          63,
          63,
          62,
          62,
          61,
          61,
          61,
          60,
          60,
          60,
          59,
          59,
          59,
          58,
          58,
          58,
          58,
          57,
          57,
          55,
          55,
          55,
          55,
          54
         ],
         "xaxis": "x",
         "y": [
          14,
          8,
          4,
          8,
          11,
          3,
          7,
          6,
          8,
          3,
          1,
          1,
          1,
          1,
          5,
          8,
          2,
          6,
          1,
          1,
          2,
          2,
          4,
          1,
          3,
          1,
          3,
          1,
          2,
          5,
          3,
          1,
          9,
          5,
          9,
          6,
          1,
          1,
          2,
          7,
          1,
          1,
          5,
          4,
          1,
          2,
          2,
          1,
          4,
          1,
          7,
          1,
          4,
          1,
          7,
          6,
          2,
          4,
          3,
          3,
          2,
          6,
          3,
          1,
          1,
          1,
          8,
          1,
          1,
          3,
          1,
          4,
          2,
          1,
          8,
          1,
          4,
          4,
          5,
          1,
          4,
          2,
          1,
          4,
          3,
          2,
          2,
          2,
          1,
          4,
          1,
          1,
          1,
          2,
          1,
          2,
          1,
          1,
          1,
          5
         ],
         "yaxis": "y"
        }
       ],
       "layout": {
        "height": 700,
        "legend": {
         "itemsizing": "constant",
         "tracegroupgap": 0
        },
        "template": {
         "data": {
          "bar": [
           {
            "error_x": {
             "color": "#2a3f5f"
            },
            "error_y": {
             "color": "#2a3f5f"
            },
            "marker": {
             "line": {
              "color": "#E5ECF6",
              "width": 0.5
             },
             "pattern": {
              "fillmode": "overlay",
              "size": 10,
              "solidity": 0.2
             }
            },
            "type": "bar"
           }
          ],
          "barpolar": [
           {
            "marker": {
             "line": {
              "color": "#E5ECF6",
              "width": 0.5
             },
             "pattern": {
              "fillmode": "overlay",
              "size": 10,
              "solidity": 0.2
             }
            },
            "type": "barpolar"
           }
          ],
          "carpet": [
           {
            "aaxis": {
             "endlinecolor": "#2a3f5f",
             "gridcolor": "white",
             "linecolor": "white",
             "minorgridcolor": "white",
             "startlinecolor": "#2a3f5f"
            },
            "baxis": {
             "endlinecolor": "#2a3f5f",
             "gridcolor": "white",
             "linecolor": "white",
             "minorgridcolor": "white",
             "startlinecolor": "#2a3f5f"
            },
            "type": "carpet"
           }
          ],
          "choropleth": [
           {
            "colorbar": {
             "outlinewidth": 0,
             "ticks": ""
            },
            "type": "choropleth"
           }
          ],
          "contour": [
           {
            "colorbar": {
             "outlinewidth": 0,
             "ticks": ""
            },
            "colorscale": [
             [
              0,
              "#0d0887"
             ],
             [
              0.1111111111111111,
              "#46039f"
             ],
             [
              0.2222222222222222,
              "#7201a8"
             ],
             [
              0.3333333333333333,
              "#9c179e"
             ],
             [
              0.4444444444444444,
              "#bd3786"
             ],
             [
              0.5555555555555556,
              "#d8576b"
             ],
             [
              0.6666666666666666,
              "#ed7953"
             ],
             [
              0.7777777777777778,
              "#fb9f3a"
             ],
             [
              0.8888888888888888,
              "#fdca26"
             ],
             [
              1,
              "#f0f921"
             ]
            ],
            "type": "contour"
           }
          ],
          "contourcarpet": [
           {
            "colorbar": {
             "outlinewidth": 0,
             "ticks": ""
            },
            "type": "contourcarpet"
           }
          ],
          "heatmap": [
           {
            "colorbar": {
             "outlinewidth": 0,
             "ticks": ""
            },
            "colorscale": [
             [
              0,
              "#0d0887"
             ],
             [
              0.1111111111111111,
              "#46039f"
             ],
             [
              0.2222222222222222,
              "#7201a8"
             ],
             [
              0.3333333333333333,
              "#9c179e"
             ],
             [
              0.4444444444444444,
              "#bd3786"
             ],
             [
              0.5555555555555556,
              "#d8576b"
             ],
             [
              0.6666666666666666,
              "#ed7953"
             ],
             [
              0.7777777777777778,
              "#fb9f3a"
             ],
             [
              0.8888888888888888,
              "#fdca26"
             ],
             [
              1,
              "#f0f921"
             ]
            ],
            "type": "heatmap"
           }
          ],
          "heatmapgl": [
           {
            "colorbar": {
             "outlinewidth": 0,
             "ticks": ""
            },
            "colorscale": [
             [
              0,
              "#0d0887"
             ],
             [
              0.1111111111111111,
              "#46039f"
             ],
             [
              0.2222222222222222,
              "#7201a8"
             ],
             [
              0.3333333333333333,
              "#9c179e"
             ],
             [
              0.4444444444444444,
              "#bd3786"
             ],
             [
              0.5555555555555556,
              "#d8576b"
             ],
             [
              0.6666666666666666,
              "#ed7953"
             ],
             [
              0.7777777777777778,
              "#fb9f3a"
             ],
             [
              0.8888888888888888,
              "#fdca26"
             ],
             [
              1,
              "#f0f921"
             ]
            ],
            "type": "heatmapgl"
           }
          ],
          "histogram": [
           {
            "marker": {
             "pattern": {
              "fillmode": "overlay",
              "size": 10,
              "solidity": 0.2
             }
            },
            "type": "histogram"
           }
          ],
          "histogram2d": [
           {
            "colorbar": {
             "outlinewidth": 0,
             "ticks": ""
            },
            "colorscale": [
             [
              0,
              "#0d0887"
             ],
             [
              0.1111111111111111,
              "#46039f"
             ],
             [
              0.2222222222222222,
              "#7201a8"
             ],
             [
              0.3333333333333333,
              "#9c179e"
             ],
             [
              0.4444444444444444,
              "#bd3786"
             ],
             [
              0.5555555555555556,
              "#d8576b"
             ],
             [
              0.6666666666666666,
              "#ed7953"
             ],
             [
              0.7777777777777778,
              "#fb9f3a"
             ],
             [
              0.8888888888888888,
              "#fdca26"
             ],
             [
              1,
              "#f0f921"
             ]
            ],
            "type": "histogram2d"
           }
          ],
          "histogram2dcontour": [
           {
            "colorbar": {
             "outlinewidth": 0,
             "ticks": ""
            },
            "colorscale": [
             [
              0,
              "#0d0887"
             ],
             [
              0.1111111111111111,
              "#46039f"
             ],
             [
              0.2222222222222222,
              "#7201a8"
             ],
             [
              0.3333333333333333,
              "#9c179e"
             ],
             [
              0.4444444444444444,
              "#bd3786"
             ],
             [
              0.5555555555555556,
              "#d8576b"
             ],
             [
              0.6666666666666666,
              "#ed7953"
             ],
             [
              0.7777777777777778,
              "#fb9f3a"
             ],
             [
              0.8888888888888888,
              "#fdca26"
             ],
             [
              1,
              "#f0f921"
             ]
            ],
            "type": "histogram2dcontour"
           }
          ],
          "mesh3d": [
           {
            "colorbar": {
             "outlinewidth": 0,
             "ticks": ""
            },
            "type": "mesh3d"
           }
          ],
          "parcoords": [
           {
            "line": {
             "colorbar": {
              "outlinewidth": 0,
              "ticks": ""
             }
            },
            "type": "parcoords"
           }
          ],
          "pie": [
           {
            "automargin": true,
            "type": "pie"
           }
          ],
          "scatter": [
           {
            "fillpattern": {
             "fillmode": "overlay",
             "size": 10,
             "solidity": 0.2
            },
            "type": "scatter"
           }
          ],
          "scatter3d": [
           {
            "line": {
             "colorbar": {
              "outlinewidth": 0,
              "ticks": ""
             }
            },
            "marker": {
             "colorbar": {
              "outlinewidth": 0,
              "ticks": ""
             }
            },
            "type": "scatter3d"
           }
          ],
          "scattercarpet": [
           {
            "marker": {
             "colorbar": {
              "outlinewidth": 0,
              "ticks": ""
             }
            },
            "type": "scattercarpet"
           }
          ],
          "scattergeo": [
           {
            "marker": {
             "colorbar": {
              "outlinewidth": 0,
              "ticks": ""
             }
            },
            "type": "scattergeo"
           }
          ],
          "scattergl": [
           {
            "marker": {
             "colorbar": {
              "outlinewidth": 0,
              "ticks": ""
             }
            },
            "type": "scattergl"
           }
          ],
          "scattermapbox": [
           {
            "marker": {
             "colorbar": {
              "outlinewidth": 0,
              "ticks": ""
             }
            },
            "type": "scattermapbox"
           }
          ],
          "scatterpolar": [
           {
            "marker": {
             "colorbar": {
              "outlinewidth": 0,
              "ticks": ""
             }
            },
            "type": "scatterpolar"
           }
          ],
          "scatterpolargl": [
           {
            "marker": {
             "colorbar": {
              "outlinewidth": 0,
              "ticks": ""
             }
            },
            "type": "scatterpolargl"
           }
          ],
          "scatterternary": [
           {
            "marker": {
             "colorbar": {
              "outlinewidth": 0,
              "ticks": ""
             }
            },
            "type": "scatterternary"
           }
          ],
          "surface": [
           {
            "colorbar": {
             "outlinewidth": 0,
             "ticks": ""
            },
            "colorscale": [
             [
              0,
              "#0d0887"
             ],
             [
              0.1111111111111111,
              "#46039f"
             ],
             [
              0.2222222222222222,
              "#7201a8"
             ],
             [
              0.3333333333333333,
              "#9c179e"
             ],
             [
              0.4444444444444444,
              "#bd3786"
             ],
             [
              0.5555555555555556,
              "#d8576b"
             ],
             [
              0.6666666666666666,
              "#ed7953"
             ],
             [
              0.7777777777777778,
              "#fb9f3a"
             ],
             [
              0.8888888888888888,
              "#fdca26"
             ],
             [
              1,
              "#f0f921"
             ]
            ],
            "type": "surface"
           }
          ],
          "table": [
           {
            "cells": {
             "fill": {
              "color": "#EBF0F8"
             },
             "line": {
              "color": "white"
             }
            },
            "header": {
             "fill": {
              "color": "#C8D4E3"
             },
             "line": {
              "color": "white"
             }
            },
            "type": "table"
           }
          ]
         },
         "layout": {
          "annotationdefaults": {
           "arrowcolor": "#2a3f5f",
           "arrowhead": 0,
           "arrowwidth": 1
          },
          "autotypenumbers": "strict",
          "coloraxis": {
           "colorbar": {
            "outlinewidth": 0,
            "ticks": ""
           }
          },
          "colorscale": {
           "diverging": [
            [
             0,
             "#8e0152"
            ],
            [
             0.1,
             "#c51b7d"
            ],
            [
             0.2,
             "#de77ae"
            ],
            [
             0.3,
             "#f1b6da"
            ],
            [
             0.4,
             "#fde0ef"
            ],
            [
             0.5,
             "#f7f7f7"
            ],
            [
             0.6,
             "#e6f5d0"
            ],
            [
             0.7,
             "#b8e186"
            ],
            [
             0.8,
             "#7fbc41"
            ],
            [
             0.9,
             "#4d9221"
            ],
            [
             1,
             "#276419"
            ]
           ],
           "sequential": [
            [
             0,
             "#0d0887"
            ],
            [
             0.1111111111111111,
             "#46039f"
            ],
            [
             0.2222222222222222,
             "#7201a8"
            ],
            [
             0.3333333333333333,
             "#9c179e"
            ],
            [
             0.4444444444444444,
             "#bd3786"
            ],
            [
             0.5555555555555556,
             "#d8576b"
            ],
            [
             0.6666666666666666,
             "#ed7953"
            ],
            [
             0.7777777777777778,
             "#fb9f3a"
            ],
            [
             0.8888888888888888,
             "#fdca26"
            ],
            [
             1,
             "#f0f921"
            ]
           ],
           "sequentialminus": [
            [
             0,
             "#0d0887"
            ],
            [
             0.1111111111111111,
             "#46039f"
            ],
            [
             0.2222222222222222,
             "#7201a8"
            ],
            [
             0.3333333333333333,
             "#9c179e"
            ],
            [
             0.4444444444444444,
             "#bd3786"
            ],
            [
             0.5555555555555556,
             "#d8576b"
            ],
            [
             0.6666666666666666,
             "#ed7953"
            ],
            [
             0.7777777777777778,
             "#fb9f3a"
            ],
            [
             0.8888888888888888,
             "#fdca26"
            ],
            [
             1,
             "#f0f921"
            ]
           ]
          },
          "colorway": [
           "#636efa",
           "#EF553B",
           "#00cc96",
           "#ab63fa",
           "#FFA15A",
           "#19d3f3",
           "#FF6692",
           "#B6E880",
           "#FF97FF",
           "#FECB52"
          ],
          "font": {
           "color": "#2a3f5f"
          },
          "geo": {
           "bgcolor": "white",
           "lakecolor": "white",
           "landcolor": "#E5ECF6",
           "showlakes": true,
           "showland": true,
           "subunitcolor": "white"
          },
          "hoverlabel": {
           "align": "left"
          },
          "hovermode": "closest",
          "mapbox": {
           "style": "light"
          },
          "paper_bgcolor": "white",
          "plot_bgcolor": "#E5ECF6",
          "polar": {
           "angularaxis": {
            "gridcolor": "white",
            "linecolor": "white",
            "ticks": ""
           },
           "bgcolor": "#E5ECF6",
           "radialaxis": {
            "gridcolor": "white",
            "linecolor": "white",
            "ticks": ""
           }
          },
          "scene": {
           "xaxis": {
            "backgroundcolor": "#E5ECF6",
            "gridcolor": "white",
            "gridwidth": 2,
            "linecolor": "white",
            "showbackground": true,
            "ticks": "",
            "zerolinecolor": "white"
           },
           "yaxis": {
            "backgroundcolor": "#E5ECF6",
            "gridcolor": "white",
            "gridwidth": 2,
            "linecolor": "white",
            "showbackground": true,
            "ticks": "",
            "zerolinecolor": "white"
           },
           "zaxis": {
            "backgroundcolor": "#E5ECF6",
            "gridcolor": "white",
            "gridwidth": 2,
            "linecolor": "white",
            "showbackground": true,
            "ticks": "",
            "zerolinecolor": "white"
           }
          },
          "shapedefaults": {
           "line": {
            "color": "#2a3f5f"
           }
          },
          "ternary": {
           "aaxis": {
            "gridcolor": "white",
            "linecolor": "white",
            "ticks": ""
           },
           "baxis": {
            "gridcolor": "white",
            "linecolor": "white",
            "ticks": ""
           },
           "bgcolor": "#E5ECF6",
           "caxis": {
            "gridcolor": "white",
            "linecolor": "white",
            "ticks": ""
           }
          },
          "title": {
           "x": 0.05
          },
          "xaxis": {
           "automargin": true,
           "gridcolor": "white",
           "linecolor": "white",
           "ticks": "",
           "title": {
            "standoff": 15
           },
           "zerolinecolor": "white",
           "zerolinewidth": 2
          },
          "yaxis": {
           "automargin": true,
           "gridcolor": "white",
           "linecolor": "white",
           "ticks": "",
           "title": {
            "standoff": 15
           },
           "zerolinecolor": "white",
           "zerolinewidth": 2
          }
         }
        },
        "title": {
         "text": "Books vs. Language Diversity per Author"
        },
        "width": 1500,
        "xaxis": {
         "anchor": "y",
         "autorange": true,
         "domain": [
          0,
          1
         ],
         "range": [
          31.797255949521432,
          360.09966701089314
         ],
         "title": {
          "text": "Number of Books"
         },
         "type": "linear"
        },
        "yaxis": {
         "anchor": "x",
         "autorange": true,
         "domain": [
          0,
          1
         ],
         "range": [
          -0.13742399969611685,
          16.038419824905855
         ],
         "title": {
          "text": "Number of Languages"
         },
         "type": "linear"
        }
       }
      },
      "image/png": "[encoded data removed]",
      "text/html": [
       "<div>                            <div id=\"57b0de47-c6fb-405a-971f-6739bafb72f6\" class=\"plotly-graph-div\" style=\"height:700px; width:1500px;\"></div>            <script type=\"text/javascript\">                require([\"plotly\"], function(Plotly) {                    window.PLOTLYENV=window.PLOTLYENV || {};                                    if (document.getElementById(\"57b0de47-c6fb-405a-971f-6739bafb72f6\")) {                    Plotly.newPlot(                        \"57b0de47-c6fb-405a-971f-6739bafb72f6\",                        [{\"hovertemplate\":\"\\u003cb\\u003e%{hovertext}\\u003c\\u002fb\\u003e\\u003cbr\\u003e\\u003cbr\\u003eNumber of Books=%{x}\\u003cbr\\u003eNumber of Languages=%{marker.size}\\u003cextra\\u003e\\u003c\\u002fextra\\u003e\",\"hovertext\":[\"Shakespeare, William\",\"Twain, Mark\",\"Lytton, Edward Bulwer Lytton, Baron\",\"Dickens, Charles\",\"Verne, Jules\",\"Ebers, Georg\",\"Dumas, Alexandre\",\"Balzac, Honor\\u00e9 de\",\"Doyle, Arthur Conan\",\"J\\u00f3kai, M\\u00f3r\",\"Oliphant, Mrs. (Margaret)\",\"Parker, Gilbert\",\"Kingston, William Henry Giles\",\"Fenn, George Manville\",\"Wells, H. G. (Herbert George)\",\"Stevenson, Robert Louis\",\"Jacobs, W. W. (William Wymark)\",\"London, Jack\",\"Alger, Horatio, Jr.\",\"Meredith, George\",\"Henty, G. A. (George Alfred)\",\"Howells, William Dean\",\"Zola, \\u00c9mile\",\"Stratemeyer, Edward\",\"Hawthorne, Nathaniel\",\"Motley, John Lothrop\",\"Burroughs, Edgar Rice\",\"Ballantyne, R. M. (Robert Michael)\",\"Baum, L. Frank (Lyman Frank)\",\"Scott, Walter\",\"Sand, George\",\"James, Henry\",\"Tolstoy, Leo, graf\",\"Kipling, Rudyard\",\"Goethe, Johann Wolfgang von\",\"Maupassant, Guy de\",\"Trollope, Anthony\",\"Pepys, Samuel\",\"Le Queux, William\",\"Defoe, Daniel\",\"Lang, Andrew\",\"Library of Congress. Copyright Office\",\"Haggard, H. Rider (Henry Rider)\",\"Conrad, Joseph\",\"Garrett, Randall\",\"Ellis, Edward Sylvester\",\"Churchill, Winston\",\"Hope, Laura Lee\",\"Wharton, Edith\",\"Human Genome Project\",\"Cervantes Saavedra, Miguel de\",\"Optic, Oliver\",\"Thackeray, William Makepeace\",\"MacDonald, George\",\"Ibsen, Henrik\",\"Plato\",\"Yonge, Charlotte M. (Charlotte Mary)\",\"P\\u00e9rez Gald\\u00f3s, Benito\",\"France, Anatole\",\"Sue, Eug\\u00e8ne\",\"Matull, Kurt\",\"Hugo, Victor\",\"Chesterton, G. K. (Gilbert Keith)\",\"Barbour, Ralph Henry\",\"Blankensee, Theo von\",\"Garis, Howard Roger\",\"Wilde, Oscar\",\"Baring-Gould, S. (Sabine)\",\"Hume, Fergus\",\"Reid, Mayne\",\"Grant, James\",\"Harte, Bret\",\"Galsworthy, John\",\"Leinster, Murray\",\"Dante Alighieri\",\"Meade, L. T.\",\"Maquet, Auguste\",\"Ruskin, John\",\"Schiller, Friedrich\",\"Wells, Carolyn\",\"Alcott, Louisa May\",\"Oppenheim, E. Phillips (Edward Phillips)\",\"Molesworth, Mrs.\",\"Strindberg, August\",\"Blasco Ib\\u00e1\\u00f1ez, Vicente\",\"Burnett, Frances Hodgson\",\"Bennett, Arnold\",\"Hardy, Thomas\",\"Carter, Nicholas (House name)\",\"Shaw, Bernard\",\"Abbott, Jacob\",\"Smith, George O. (George Oliver)\",\"Warner, Charles Dudley\",\"Braddon, M. E. (Mary Elizabeth)\",\"Standish, Burt L.\",\"Huxley, Thomas Henry\",\"Belloc, Hilaire\",\"Lever, Charles James\",\"Wodehouse, P. G. (Pelham Grenville)\",\"Aimard, Gustave\"],\"legendgroup\":\"\",\"marker\":{\"color\":\"#636efa\",\"size\":[14,8,4,8,11,3,7,6,8,3,1,1,1,1,5,8,2,6,1,1,2,2,4,1,3,1,3,1,2,5,3,1,9,5,9,6,1,1,2,7,1,1,5,4,1,2,2,1,4,1,7,1,4,1,7,6,2,4,3,3,2,6,3,1,1,1,8,1,1,3,1,4,2,1,8,1,4,4,5,1,4,2,1,4,3,2,2,2,1,4,1,1,1,2,1,2,1,1,1,5],\"sizemode\":\"area\",\"sizeref\":0.0056,\"symbol\":\"circle\"},\"mode\":\"markers\",\"name\":\"\",\"orientation\":\"v\",\"showlegend\":false,\"x\":[334,251,226,197,177,177,164,159,150,146,141,134,133,130,124,114,114,113,113,112,111,111,104,104,103,103,102,101,100,98,98,97,96,96,91,91,88,87,84,83,83,82,79,78,78,77,76,76,74,73,72,72,71,71,70,70,70,69,69,69,69,68,68,68,68,68,67,67,67,66,66,65,65,65,64,64,63,63,62,62,61,61,61,60,60,60,59,59,59,58,58,58,58,57,57,55,55,55,55,54],\"xaxis\":\"x\",\"y\":[14,8,4,8,11,3,7,6,8,3,1,1,1,1,5,8,2,6,1,1,2,2,4,1,3,1,3,1,2,5,3,1,9,5,9,6,1,1,2,7,1,1,5,4,1,2,2,1,4,1,7,1,4,1,7,6,2,4,3,3,2,6,3,1,1,1,8,1,1,3,1,4,2,1,8,1,4,4,5,1,4,2,1,4,3,2,2,2,1,4,1,1,1,2,1,2,1,1,1,5],\"yaxis\":\"y\",\"type\":\"scatter\"}],                        {\"template\":{\"data\":{\"histogram2dcontour\":[{\"type\":\"histogram2dcontour\",\"colorbar\":{\"outlinewidth\":0,\"ticks\":\"\"},\"colorscale\":[[0.0,\"#0d0887\"],[0.1111111111111111,\"#46039f\"],[0.2222222222222222,\"#7201a8\"],[0.3333333333333333,\"#9c179e\"],[0.4444444444444444,\"#bd3786\"],[0.5555555555555556,\"#d8576b\"],[0.6666666666666666,\"#ed7953\"],[0.7777777777777778,\"#fb9f3a\"],[0.8888888888888888,\"#fdca26\"],[1.0,\"#f0f921\"]]}],\"choropleth\":[{\"type\":\"choropleth\",\"colorbar\":{\"outlinewidth\":0,\"ticks\":\"\"}}],\"histogram2d\":[{\"type\":\"histogram2d\",\"colorbar\":{\"outlinewidth\":0,\"ticks\":\"\"},\"colorscale\":[[0.0,\"#0d0887\"],[0.1111111111111111,\"#46039f\"],[0.2222222222222222,\"#7201a8\"],[0.3333333333333333,\"#9c179e\"],[0.4444444444444444,\"#bd3786\"],[0.5555555555555556,\"#d8576b\"],[0.6666666666666666,\"#ed7953\"],[0.7777777777777778,\"#fb9f3a\"],[0.8888888888888888,\"#fdca26\"],[1.0,\"#f0f921\"]]}],\"heatmap\":[{\"type\":\"heatmap\",\"colorbar\":{\"outlinewidth\":0,\"ticks\":\"\"},\"colorscale\":[[0.0,\"#0d0887\"],[0.1111111111111111,\"#46039f\"],[0.2222222222222222,\"#7201a8\"],[0.3333333333333333,\"#9c179e\"],[0.4444444444444444,\"#bd3786\"],[0.5555555555555556,\"#d8576b\"],[0.6666666666666666,\"#ed7953\"],[0.7777777777777778,\"#fb9f3a\"],[0.8888888888888888,\"#fdca26\"],[1.0,\"#f0f921\"]]}],\"heatmapgl\":[{\"type\":\"heatmapgl\",\"colorbar\":{\"outlinewidth\":0,\"ticks\":\"\"},\"colorscale\":[[0.0,\"#0d0887\"],[0.1111111111111111,\"#46039f\"],[0.2222222222222222,\"#7201a8\"],[0.3333333333333333,\"#9c179e\"],[0.4444444444444444,\"#bd3786\"],[0.5555555555555556,\"#d8576b\"],[0.6666666666666666,\"#ed7953\"],[0.7777777777777778,\"#fb9f3a\"],[0.8888888888888888,\"#fdca26\"],[1.0,\"#f0f921\"]]}],\"contourcarpet\":[{\"type\":\"contourcarpet\",\"colorbar\":{\"outlinewidth\":0,\"ticks\":\"\"}}],\"contour\":[{\"type\":\"contour\",\"colorbar\":{\"outlinewidth\":0,\"ticks\":\"\"},\"colorscale\":[[0.0,\"#0d0887\"],[0.1111111111111111,\"#46039f\"],[0.2222222222222222,\"#7201a8\"],[0.3333333333333333,\"#9c179e\"],[0.4444444444444444,\"#bd3786\"],[0.5555555555555556,\"#d8576b\"],[0.6666666666666666,\"#ed7953\"],[0.7777777777777778,\"#fb9f3a\"],[0.8888888888888888,\"#fdca26\"],[1.0,\"#f0f921\"]]}],\"surface\":[{\"type\":\"surface\",\"colorbar\":{\"outlinewidth\":0,\"ticks\":\"\"},\"colorscale\":[[0.0,\"#0d0887\"],[0.1111111111111111,\"#46039f\"],[0.2222222222222222,\"#7201a8\"],[0.3333333333333333,\"#9c179e\"],[0.4444444444444444,\"#bd3786\"],[0.5555555555555556,\"#d8576b\"],[0.6666666666666666,\"#ed7953\"],[0.7777777777777778,\"#fb9f3a\"],[0.8888888888888888,\"#fdca26\"],[1.0,\"#f0f921\"]]}],\"mesh3d\":[{\"type\":\"mesh3d\",\"colorbar\":{\"outlinewidth\":0,\"ticks\":\"\"}}],\"scatter\":[{\"fillpattern\":{\"fillmode\":\"overlay\",\"size\":10,\"solidity\":0.2},\"type\":\"scatter\"}],\"parcoords\":[{\"type\":\"parcoords\",\"line\":{\"colorbar\":{\"outlinewidth\":0,\"ticks\":\"\"}}}],\"scatterpolargl\":[{\"type\":\"scatterpolargl\",\"marker\":{\"colorbar\":{\"outlinewidth\":0,\"ticks\":\"\"}}}],\"bar\":[{\"error_x\":{\"color\":\"#2a3f5f\"},\"error_y\":{\"color\":\"#2a3f5f\"},\"marker\":{\"line\":{\"color\":\"#E5ECF6\",\"width\":0.5},\"pattern\":{\"fillmode\":\"overlay\",\"size\":10,\"solidity\":0.2}},\"type\":\"bar\"}],\"scattergeo\":[{\"type\":\"scattergeo\",\"marker\":{\"colorbar\":{\"outlinewidth\":0,\"ticks\":\"\"}}}],\"scatterpolar\":[{\"type\":\"scatterpolar\",\"marker\":{\"colorbar\":{\"outlinewidth\":0,\"ticks\":\"\"}}}],\"histogram\":[{\"marker\":{\"pattern\":{\"fillmode\":\"overlay\",\"size\":10,\"solidity\":0.2}},\"type\":\"histogram\"}],\"scattergl\":[{\"type\":\"scattergl\",\"marker\":{\"colorbar\":{\"outlinewidth\":0,\"ticks\":\"\"}}}],\"scatter3d\":[{\"type\":\"scatter3d\",\"line\":{\"colorbar\":{\"outlinewidth\":0,\"ticks\":\"\"}},\"marker\":{\"colorbar\":{\"outlinewidth\":0,\"ticks\":\"\"}}}],\"scattermapbox\":[{\"type\":\"scattermapbox\",\"marker\":{\"colorbar\":{\"outlinewidth\":0,\"ticks\":\"\"}}}],\"scatterternary\":[{\"type\":\"scatterternary\",\"marker\":{\"colorbar\":{\"outlinewidth\":0,\"ticks\":\"\"}}}],\"scattercarpet\":[{\"type\":\"scattercarpet\",\"marker\":{\"colorbar\":{\"outlinewidth\":0,\"ticks\":\"\"}}}],\"carpet\":[{\"aaxis\":{\"endlinecolor\":\"#2a3f5f\",\"gridcolor\":\"white\",\"linecolor\":\"white\",\"minorgridcolor\":\"white\",\"startlinecolor\":\"#2a3f5f\"},\"baxis\":{\"endlinecolor\":\"#2a3f5f\",\"gridcolor\":\"white\",\"linecolor\":\"white\",\"minorgridcolor\":\"white\",\"startlinecolor\":\"#2a3f5f\"},\"type\":\"carpet\"}],\"table\":[{\"cells\":{\"fill\":{\"color\":\"#EBF0F8\"},\"line\":{\"color\":\"white\"}},\"header\":{\"fill\":{\"color\":\"#C8D4E3\"},\"line\":{\"color\":\"white\"}},\"type\":\"table\"}],\"barpolar\":[{\"marker\":{\"line\":{\"color\":\"#E5ECF6\",\"width\":0.5},\"pattern\":{\"fillmode\":\"overlay\",\"size\":10,\"solidity\":0.2}},\"type\":\"barpolar\"}],\"pie\":[{\"automargin\":true,\"type\":\"pie\"}]},\"layout\":{\"autotypenumbers\":\"strict\",\"colorway\":[\"#636efa\",\"#EF553B\",\"#00cc96\",\"#ab63fa\",\"#FFA15A\",\"#19d3f3\",\"#FF6692\",\"#B6E880\",\"#FF97FF\",\"#FECB52\"],\"font\":{\"color\":\"#2a3f5f\"},\"hovermode\":\"closest\",\"hoverlabel\":{\"align\":\"left\"},\"paper_bgcolor\":\"white\",\"plot_bgcolor\":\"#E5ECF6\",\"polar\":{\"bgcolor\":\"#E5ECF6\",\"angularaxis\":{\"gridcolor\":\"white\",\"linecolor\":\"white\",\"ticks\":\"\"},\"radialaxis\":{\"gridcolor\":\"white\",\"linecolor\":\"white\",\"ticks\":\"\"}},\"ternary\":{\"bgcolor\":\"#E5ECF6\",\"aaxis\":{\"gridcolor\":\"white\",\"linecolor\":\"white\",\"ticks\":\"\"},\"baxis\":{\"gridcolor\":\"white\",\"linecolor\":\"white\",\"ticks\":\"\"},\"caxis\":{\"gridcolor\":\"white\",\"linecolor\":\"white\",\"ticks\":\"\"}},\"coloraxis\":{\"colorbar\":{\"outlinewidth\":0,\"ticks\":\"\"}},\"colorscale\":{\"sequential\":[[0.0,\"#0d0887\"],[0.1111111111111111,\"#46039f\"],[0.2222222222222222,\"#7201a8\"],[0.3333333333333333,\"#9c179e\"],[0.4444444444444444,\"#bd3786\"],[0.5555555555555556,\"#d8576b\"],[0.6666666666666666,\"#ed7953\"],[0.7777777777777778,\"#fb9f3a\"],[0.8888888888888888,\"#fdca26\"],[1.0,\"#f0f921\"]],\"sequentialminus\":[[0.0,\"#0d0887\"],[0.1111111111111111,\"#46039f\"],[0.2222222222222222,\"#7201a8\"],[0.3333333333333333,\"#9c179e\"],[0.4444444444444444,\"#bd3786\"],[0.5555555555555556,\"#d8576b\"],[0.6666666666666666,\"#ed7953\"],[0.7777777777777778,\"#fb9f3a\"],[0.8888888888888888,\"#fdca26\"],[1.0,\"#f0f921\"]],\"diverging\":[[0,\"#8e0152\"],[0.1,\"#c51b7d\"],[0.2,\"#de77ae\"],[0.3,\"#f1b6da\"],[0.4,\"#fde0ef\"],[0.5,\"#f7f7f7\"],[0.6,\"#e6f5d0\"],[0.7,\"#b8e186\"],[0.8,\"#7fbc41\"],[0.9,\"#4d9221\"],[1,\"#276419\"]]},\"xaxis\":{\"gridcolor\":\"white\",\"linecolor\":\"white\",\"ticks\":\"\",\"title\":{\"standoff\":15},\"zerolinecolor\":\"white\",\"automargin\":true,\"zerolinewidth\":2},\"yaxis\":{\"gridcolor\":\"white\",\"linecolor\":\"white\",\"ticks\":\"\",\"title\":{\"standoff\":15},\"zerolinecolor\":\"white\",\"automargin\":true,\"zerolinewidth\":2},\"scene\":{\"xaxis\":{\"backgroundcolor\":\"#E5ECF6\",\"gridcolor\":\"white\",\"linecolor\":\"white\",\"showbackground\":true,\"ticks\":\"\",\"zerolinecolor\":\"white\",\"gridwidth\":2},\"yaxis\":{\"backgroundcolor\":\"#E5ECF6\",\"gridcolor\":\"white\",\"linecolor\":\"white\",\"showbackground\":true,\"ticks\":\"\",\"zerolinecolor\":\"white\",\"gridwidth\":2},\"zaxis\":{\"backgroundcolor\":\"#E5ECF6\",\"gridcolor\":\"white\",\"linecolor\":\"white\",\"showbackground\":true,\"ticks\":\"\",\"zerolinecolor\":\"white\",\"gridwidth\":2}},\"shapedefaults\":{\"line\":{\"color\":\"#2a3f5f\"}},\"annotationdefaults\":{\"arrowcolor\":\"#2a3f5f\",\"arrowhead\":0,\"arrowwidth\":1},\"geo\":{\"bgcolor\":\"white\",\"landcolor\":\"#E5ECF6\",\"subunitcolor\":\"white\",\"showland\":true,\"showlakes\":true,\"lakecolor\":\"white\"},\"title\":{\"x\":0.05},\"mapbox\":{\"style\":\"light\"}}},\"xaxis\":{\"anchor\":\"y\",\"domain\":[0.0,1.0],\"title\":{\"text\":\"Number of Books\"}},\"yaxis\":{\"anchor\":\"x\",\"domain\":[0.0,1.0],\"title\":{\"text\":\"Number of Languages\"}},\"legend\":{\"tracegroupgap\":0,\"itemsizing\":\"constant\"},\"title\":{\"text\":\"Books vs. Language Diversity per Author\"},\"height\":700,\"width\":1500},                        {\"responsive\": true}                    ).then(function(){\n",
       "                            \n",
       "var gd = document.getElementById('57b0de47-c6fb-405a-971f-6739bafb72f6');\n",
       "var x = new MutationObserver(function (mutations, observer) {{\n",
       "        var display = window.getComputedStyle(gd).display;\n",
       "        if (!display || display === 'none') {{\n",
       "            console.log([gd, 'removed!']);\n",
       "            Plotly.purge(gd);\n",
       "            observer.disconnect();\n",
       "        }}\n",
       "}});\n",
       "\n",
       "// Listen for the removal of the full notebook cells\n",
       "var notebookContainer = gd.closest('#notebook-container');\n",
       "if (notebookContainer) {{\n",
       "    x.observe(notebookContainer, {childList: true});\n",
       "}}\n",
       "\n",
       "// Listen for the clearing of the current output cell\n",
       "var outputEl = gd.closest('.output');\n",
       "if (outputEl) {{\n",
       "    x.observe(outputEl, {childList: true});\n",
       "}}\n",
       "\n",
       "                        })                };                });            </script>        </div>"
      ]
     },
     "metadata": {},
     "output_type": "display_data"
    }
   ],
   "source": [
    "import plotly.express as px\n",
    "\n",
    "fig = px.scatter(\n",
    "    author_summary_top_100,\n",
    "    x=\"gutenberg_id\",\n",
    "    y=\"language\",\n",
    "    size=\"language\",\n",
    "    size_max=50,\n",
    "    hover_name=\"author\",\n",
    "    hover_data={\n",
    "        \"gutenberg_id\": True,\n",
    "        \"language\": True\n",
    "    },\n",
    "    labels={\n",
    "        \"gutenberg_id\": \"Number of Books\",\n",
    "        \"language\": \"Number of Languages\"\n",
    "    },\n",
    "    title=\"Books vs. Language Diversity per Author\",\n",
    "    width=1500,\n",
    "    height=700\n",
    ")\n",
    "\n",
    "fig.show()"
   ]
  },
  {
   "cell_type": "markdown",
   "id": "b40bbe00-fbcd-43bc-bfba-1e3d6009d7d6",
   "metadata": {},
   "source": [
    "- → William Shakespeare has the largest number of books and languages.\n",
    "- → Mark Twain has the second largest number of books, and Jules Verne has the second largest number of languages."
   ]
  },
  {
   "cell_type": "markdown",
   "id": "a2c4f49f-d35e-45e1-83b2-010a4618c6ee",
   "metadata": {},
   "source": [
    "- EOF"
   ]
  },
  {
   "cell_type": "code",
   "execution_count": null,
   "id": "92aa7531-761e-49c1-8d8c-e836c423f434",
   "metadata": {},
   "outputs": [],
   "source": []
  }
 ],
 "metadata": {
  "kernelspec": {
   "display_name": "Python 3 (ipykernel)",
   "language": "python",
   "name": "python3"
  },
  "language_info": {
   "codemirror_mode": {
    "name": "ipython",
    "version": 3
   },
   "file_extension": ".py",
   "mimetype": "text/x-python",
   "name": "python",
   "nbconvert_exporter": "python",
   "pygments_lexer": "ipython3",
   "version": "3.12.5"
  }
 },
 "nbformat": 4,
 "nbformat_minor": 5
}
